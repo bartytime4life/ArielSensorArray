{
 "cells": [
  {
   "cell_type": "markdown",
   "metadata": {},
   "source": [
    "# SpectraMind V50 — Diagnostics & Explainability\n",
    "\n",
    "Run the dashboard and display the HTML inline (if present)."
   ]
  },
  {
   "cell_type": "code",
   "execution_count": null,
   "metadata": {},
   "outputs": [],
   "source": [
    "import sys, subprocess, shlex\n",
    "from pathlib import Path\n",
    "\n",
    "def choose_cli() -> str:\n",
    "    def ok(cmd: str) -> bool:\n",
    "        try:\n",
    "            subprocess.run(cmd + \" --help\", shell=True, check=True, stdout=subprocess.PIPE, stderr=subprocess.PIPE)\n",
    "            return True\n",
    "        except Exception:\n",
    "            return False\n",
    "    for cmd in (\"poetry run spectramind\", \"spectramind\", f\"{shlex.quote(sys.executable)} -m spectramind\"):\n",
    "        if ok(cmd):\n",
    "            return cmd\n",
    "    return \"spectramind\"\n",
    "\n",
    "CLI = choose_cli()\n",
    "OUT = Path(\"outputs/diagnostics\")\n",
    "OUT.mkdir(parents=True, exist_ok=True)\n",
    "CLI, str(OUT)"
   ]
  },
  {
   "cell_type": "markdown",
   "metadata": {},
   "source": [
    "## Generate dashboard (light)\n",
    "Skips heavy projections by default; falls back to full if supported."
   ]
  },
  {
   "cell_type": "code",
   "execution_count": null,
   "metadata": {},
   "outputs": [],
   "source": [
    "cmd = CLI + f\" diagnose dashboard --no-umap --no-tsne --outdir {shlex.quote(str(OUT))}\"\n",
    "rc = subprocess.call(cmd, shell=True)\n",
    "if rc != 0:\n",
    "    subprocess.call(CLI + f\" diagnose dashboard --outdir {shlex.quote(str(OUT))}\", shell=True)\n",
    "report = OUT / \"report.html\"\n",
    "report.exists(), str(report)"
   ]
  },
  {
   "cell_type": "markdown",
   "metadata": {},
   "source": [
    "## Render inline\n",
    "If the HTML report exists, show it right here as an iframe."
   ]
  },
  {
   "cell_type": "code",
   "execution_count": null,
   "metadata": {
    "scrolled": true
   },
   "outputs": [],
   "source": [
    "from IPython.display import IFrame, display, HTML\n",
    "report = Path(\"outputs/diagnostics/report.html\")\n",
    "if report.exists():\n",
    "    display(IFrame(src=str(report), width=\"100%\", height=\"640px\"))\n",
    "else:\n",
    "    display(HTML(\"<p style='color:#c00'>Report not found. Run the cell above to generate diagnostics.</p>\"))"
   ]
  }
 ],
 "metadata": {
  "kernelspec": {
   "display_name": "Python 3",
   "language": "python",
   "name": "python3"
  },
  "language_info": {
   "name": "python",
   "version": "3.11"
  }
 },
 "nbformat": 4,
 "nbformat_minor": 5
}