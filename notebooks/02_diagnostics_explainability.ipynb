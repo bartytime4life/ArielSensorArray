{
 "cells": [
  {
   "cell_type": "markdown",
   "metadata": {},
   "source": [
    "# 🔍 SpectraMind V50 — 02_diagnostics_explainability\n",
    "\n",
    "Generate **diagnostics & explainability** artifacts (HTML reports, SHAP overlays, symbolic rule rankings, FFT/smoothness maps) via the **CLI** so everything stays reproducible and config-driven."
   ]
  },
  {
   "cell_type": "markdown",
   "metadata": {},
   "source": [
    "## 0) Runtime Helper — Resolve `spectramind`\n",
    "\n",
    "Resolves launcher in order:\n",
    "1. `spectramind` (on PATH)\n",
    "2. `poetry run spectramind`\n",
    "3. `python -m spectramind`\n",
    "\n",
    "Exposes: `sm(cmd)`, `sm_print(cmd)`; creates output dirs for artifacts."
   ]
  },
  {
   "cell_type": "code",
   "execution_count": null,
   "metadata": {},
   "outputs": [],
   "source": [
    "import os, shlex, shutil, subprocess, sys\n",
    "from pathlib import Path\n",
    "\n", 
    "def _resolve_spectramind_cmd():\n",
    "    if shutil.which(\"spectramind\"):\n",
    "        return [\"spectramind\"]\n",
    "    if shutil.which(\"poetry\"):\n",
    "        try:\n",
    "            out = subprocess.run([\"poetry\", \"run\", \"spectramind\", \"--version\"],\n",
    "                                 stdout=subprocess.PIPE, stderr=subprocess.STDOUT, text=True)\n",
    "            if out.returncode == 0:\n",
    "                return [\"poetry\", \"run\", \"spectramind\"]\n",
    "        except Exception:\n",
    "            pass\n",
    "    return [sys.executable, \"-m\", \"spectramind\"]\n",
    "\n",
    "SM = _resolve_spectramind_cmd()\n",
    "print(\"Resolved spectramind launcher:\", \" \".join(shlex.quote(p) for p in SM))\n",
    "\n",
    "def sm(cmd: str, check=False, capture=False):\n",
    "    args = shlex.split(cmd)\n",
    "    res = subprocess.run(SM + args,\n",
    "                         check=check,\n",
    "                         stdout=subprocess.PIPE if capture else None,\n",
    "                         stderr=subprocess.STDOUT if capture else None,\n",
    "                         text=True)\n",
    "    return res\n",
    "\n",
    "def sm_print(cmd: str):\n",
    "    print(\"$\", \" \".join(SM + shlex.split(cmd)))\n",
    "\n",
    "ART = Path(\"outputs/diagnostics_explain\"); ART.mkdir(parents=True, exist_ok=True)\n",
    "SHAP_DIR = ART / \"shap\"; SHAP_DIR.mkdir(parents=True, exist_ok=True)\n",
    "SYMB_DIR = ART / \"symbolic\"; SYMB_DIR.mkdir(parents=True, exist_ok=True)\n",
    "FFT_DIR = ART / \"fft\"; FFT_DIR.mkdir(parents=True, exist_ok=True)\n",
    "SMOOTH_DIR = ART / \"smoothness\"; SMOOTH_DIR.mkdir(parents=True, exist_ok=True)\n",
    "DASH_DIR = ART / \"dashboard\"; DASH_DIR.mkdir(parents=True, exist_ok=True)"
   ]
  },
  {
   "cell_type": "markdown",
   "metadata": {},
   "source": [
    "## 1) Quick Sanity: toolchain + CLI presence\n",
    "Also prints first lines of `--help` to confirm CLI is wired up."
   ]
  },
  {
   "cell_type": "code",
   "execution_count": null,
   "metadata": {},
   "outputs": [],
   "source": [
    "!python --version\n",
    "!pip --version\n",
    "!git --version\n",
    "!dvc --version || echo '⚠️ DVC not found (ok if not used)'\n",
    "try:\n",
    "    import torch\n",
    "    print(\"PyTorch:\", torch.__version__, \"CUDA:\", torch.cuda.is_available())\n",
    "except Exception:\n",
    "    print(\"PyTorch not available — OK for diagnostics that don't require GPU\")\n",
    "\n",
    "sm_print(\"--version\")\n",
    "out = sm(\"--version\", capture=True)\n",
    "print(out.stdout or \"(no output)\")\n",
    "\n",
    "sm_print(\"--help\")\n",
    "out = sm(\"--help\", capture=True)\n",
    "print(\"\\n\".join(out.stdout.splitlines()[:20]) if out.stdout else \"(no output)\")"
   ]
  },
  {
   "cell_type": "markdown",
   "metadata": {},
   "source": [
    "## 2) Unified Diagnostics Dashboard (HTML)\n",
    "Build a compact dashboard (disable heavy projections for speed). Adjust flags as needed. Outputs into `outputs/diagnostics_explain/dashboard/` and/or prints a final path to HTML report(s)."
   ]
  },
  {
   "cell_type": "code",
   "execution_count": null,
   "metadata": {},
   "outputs": [],
   "source": [
    "dash_cmd = f\"diagnose dashboard --no-umap --no-tsne --outdir {DASH_DIR.as_posix()}\"\n",
    "sm_print(dash_cmd)\n",
    "res = sm(dash_cmd, capture=True)\n",
    "print(res.stdout or \"(no output)\")\n",
    "\n",
    "!find outputs/diagnostics_explain/dashboard -maxdepth 2 -type f | head -n 25 || true\n",
    "!find outputs -maxdepth 4 -type f -name \"*report*.html\" | head -n 10 || true"
   ]
  },
  {
   "cell_type": "markdown",
   "metadata": {},
   "source": [
    "### Inline preview (if an HTML report is present)\n",
    "The cell below attempts to render the first found HTML report inside the notebook (best-effort; may not work on all notebook hosts)."
   ]
  },
  {
   "cell_type": "code",
   "execution_count": null,
   "metadata": {},
   "outputs": [],
   "source": [
    "from pathlib import Path\n",
    "from IPython.display import IFrame, display\n",
    "\n",
    "def _find_html():\n",
    "    cands = list(Path(\"outputs/diagnostics_explain/dashboard\").glob(\"**/*.html\"))\n",
    "    if cands:\n",
    "        return cands[0]\n",
    "    cands = list(Path(\"outputs\").glob(\"**/*report*.html\"))\n",
    "    return cands[0] if cands else None\n",
    "\n",
    "html = _find_html()\n",
    "if html and html.exists():\n",
    "    print(\"Rendering:\", html)\n",
    "    display(IFrame(src=html.as_posix(), width=\"100%\", height=600))\n",
    "else:\n",
    "    print(\"No HTML report found to display.\")"
   ]
  },
  {
   "cell_type": "markdown",
   "metadata": {},
   "source": [
    "## 3) SHAP Explainability\n",
    "Generate SHAP overlays and summary artifacts via CLI (paths/flags are examples; adapt to your repo’s options). Outputs to `outputs/diagnostics_explain/shap/`.\n",
    "\n",
    "**Typical visualizations:** global bar plots, per-planet SHAP × spectrum overlays, JSON summaries for dashboards."
   ]
  },
  {
   "cell_type": "code",
   "execution_count": null,
   "metadata": {},
   "outputs": [],
   "source": [
    "shap_cmds = [\n",
    f\"diagnose shap --outdir {SHAP_DIR.as_posix()} --fast\",\n",
    f\"diagnose shap --mode summary --outdir {SHAP_DIR.as_posix()} --fast\"\n",
    "]\n",
    "for cmd in shap_cmds:\n",
    "    sm_print(cmd)\n",
    "    out = sm(cmd, capture=True)\n",
    "    print(out.stdout or \"(no output)\")\n",
    "\n",
    "!find outputs/diagnostics_explain/shap -maxdepth 2 -type f | head -n 30 || true\n",
    "!find outputs -maxdepth 4 -type f -name \"*shap*.*\" | head -n 20 || true"
   ]
  },
  {
   "cell_type": "markdown",
   "metadata": {},
   "source": [
    "## 4) Symbolic Rule Ranking / Violations\n",
    "Run symbolic diagnostics (rule ranking, overlays). Outputs to `outputs/diagnostics_explain/symbolic/`.\n",
    "\n",
    "Artifacts may include JSON/CSV tables of top rules per planet, heatmaps, and overlay PNG/HTML figures for the dashboard."
   ]
  },
  {
   "cell_type": "code",
   "execution_count": null,
   "metadata": {},
   "outputs": [],
   "source": [
    "symb_cmds = [\n",
    f\"diagnose symbolic-rank --outdir {SYMB_DIR.as_posix()} --topk 20\",\n",
    f\"diagnose symbolic-rank --matrix --outdir {SYMB_DIR.as_posix()} --topk 20\"\n",
    "]\n",
    "for cmd in symb_cmds:\n",
    "    sm_print(cmd)\n",
    "    out = sm(cmd, capture=True)\n",
    "    print(out.stdout or \"(no output)\")\n",
    "\n",
    "!find outputs/diagnostics_explain/symbolic -maxdepth 2 -type f | head -n 30 || true\n",
    "!find outputs -maxdepth 4 -type f -name \"*symbolic*.*\" | head -n 20 || true"
   ]
  },
  {
   "cell_type": "markdown",
   "metadata": {},
   "source": [
    "## 5) FFT / Spectral Smoothness Diagnostics\n",
    "Compute FFT-based and smoothness metrics to spot noise patterns, periodic artifacts, and rough spectra. Outputs to `outputs/diagnostics_explain/fft/` and `outputs/diagnostics_explain/smoothness/`.\n",
    "\n",
    "These diagnostics often feed the dashboard (frequency-domain plots, heatmaps, anomaly lists)."
   ]
  },
  {
   "cell_type": "code",
   "execution_count": null,
   "metadata": {},
   "outputs": [],
   "source": [
    f\"\"\"\n",
    "cmds = [\n",
    f\"diagnose fft --outdir {FFT_DIR.as_posix()} --fast\",\n",
    f\"diagnose smoothness --outdir {SMOOTH_DIR.as_posix()} --fast\"\n",
    "]\n",
    "for cmd in cmds:\n",
    "    sm_print(cmd)\n",
    "    out = sm(cmd, capture=True)\n",
    "    print(out.stdout or \"(no output)\")\n",
    "\n",
    "!find outputs/diagnostics_explain/fft -maxdepth 2 -type f | head -n 20 || true\n",
    "!find outputs/diagnostics_explain/smoothness -maxdepth 2 -type f | head -n 20 || true\n",
    "!find outputs -maxdepth 4 -type f -name \"*fft*.*\" | head -n 20 || true\n",
    "!find outputs -maxdepth 4 -type f -name \"*smooth*.*\" | head -n 20 || true\n",
    "\"\"\"\n"
   ]
  },
  {
   "cell_type": "markdown",
   "metadata": {},
   "source": [
    "## 6) Collect & Summarize Key Artifacts\n",
    "Quick index of produced HTML, PNG, and JSON files across diagnostics folders for easy inspection/click-through in your IDE/notebook file browser."
   ]
  },
  {
   "cell_type": "code",
   "execution_count": null,
   "metadata": {},
   "outputs": [],
   "source": [
    "!echo '=== HTML Reports ==='\n",
    "!find outputs/diagnostics_explain -type f -name \"*.html\" | sed 's/^/- /' || true\n",
    "!echo '\\n=== PNG Figures ==='\n",
    "!find outputs/diagnostics_explain -type f -name \"*.png\" | head -n 40 | sed 's/^/- /' || true\n",
    "!echo '\\n=== JSON/CSV Summaries ==='\n",
    "!find outputs/diagnostics_explain -type f \\( -name \"*.json\" -o -name \"*.csv\" \\) | head -n 40 | sed 's/^/- /' || true\n",
    "!echo '\\n=== Top-level Dashboard Candidates ==='\n",
    "!find outputs -type f -name \"*report*.html\" | sed 's/^/- /' || true"
   ]
  },
  {
   "cell_type": "markdown",
   "metadata": {},
   "source": [
    "## 7) (Optional) Open One SHAP Plot Inline\n",
    "Attempts to render a SHAP PNG if available (best-effort)."
   ]
  },
  {
   "cell_type": "code",
   "execution_count": null,
   "metadata": {},
   "outputs": [],
   "source": [
    "from IPython.display import Image, display\n",
    "cands = list(SHAP_DIR.glob(\"**/*.png\"))\n",
    "if cands:\n",
    "    print(\"Displaying:\", cands[0])\n",
    "    display(Image(filename=str(cands[0])))\n",
    "else:\n",
    "    print(\"No SHAP PNG found for inline display.\")"
   ]
  },
  {
   "cell_type": "markdown",
   "metadata": {},
   "source": [
    "## 8) Next Steps\n",
    "- Rebuild the dashboard without `--no-umap/--no-tsne` for full projections.\n",
    "- Tune SHAP sampling density and symbolic rule limits for deeper insights.\n",
    "- Promote selected artifacts into your versioned HTML report and CI diagnostics.\n",
    "- For large runs, consider `spectramind diagnose ... --config <yaml>` for reproducible parameterization."
   ]
  }
 ],
 "metadata": {
  "kernelspec": {
   "display_name": "Python 3",
   "language": "python",
   "name": "python3"
  },
  "language_info": {
   "name": "python",
   "version": "3.10"
  }
 },
 "nbformat": 4,
 "nbformat_minor": 5
}
