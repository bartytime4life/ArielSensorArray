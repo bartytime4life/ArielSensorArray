{
 "cells": [
  {
   "cell_type": "markdown",
   "metadata": {},
   "source": [
    "# 🧪 SpectraMind V50 — 02_calibration_walkthrough.ipynb\n",
    "\n",
    "Mission‑grade walkthrough of the **calibration kill chain**:\n",
    "raw instrument data → science‑ready lightcurves/spectra, using the **CLI + Hydra configs**.\n",
    "\n",
    "**Standards**\n",
    "- Notebooks are *thin orchestration*: **CLI → Hydra → DVC artifacts**. No ad‑hoc pipeline code.\n",
    "- Inputs come from `data/` (DVC); outputs are written to `outputs/calibrated/` and tracked via DVC as appropriate.\n",
    "- All figures/JSON summaries go under `outputs/calibration/`.\n",
    "- This notebook is safe to run as a sample; scale up with the CLI once validated.\n",
    "\n",
    "**What you’ll do**\n",
    "1) Env & repo sanity checks (best‑effort).\n",
    "2) Discover raw files in `data/`.\n",
    "3) Run a **sample calibration** via the CLI (fast path): `spectramind calibrate --sample 3 --outdir outputs/calibrated --fast`.\n",
    "4) Verify artifacts (e.g., `outputs/calibrated/lightcurves.h5`).\n",
    "5) Visualize calibrated FGS1/AIRS quick‑looks.\n",
    "6) **Raw vs Calibrated FFT** comparison (if raw series available) to illustrate systematics suppression.\n",
    "7) Persist a small calibration report JSON for downstream tools."
   ]
  },
  {
   "cell_type": "markdown",
   "metadata": {},
   "source": [
    "## 0) Setup & paths\n",
    "Assumes this notebook is in `/notebooks`. Creates output folders for artifacts and logs.\n"
   ]
  },
  {
   "cell_type": "code",
   "execution_count": null,
   "metadata": {
    "tags": [
     "init"
    ]
   },
   "outputs": [],
   "source": [
    "import os, sys, json, subprocess, textwrap\n",
    "from pathlib import Path\n",
    "import numpy as np\n",
    "import pandas as pd\n",
    "import matplotlib.pyplot as plt\n",
    "import seaborn as sns\n",
    "sns.set_context('notebook'); sns.set_style('whitegrid')\n",
    "\n",
    "NB_DIR = Path.cwd()\n",
    "ROOT = NB_DIR if (NB_DIR / 'data').exists() else NB_DIR.parents[0]\n",
    "DATA = ROOT / 'data'\n",
    "OUT = ROOT / 'outputs'\n",
    "CAL = OUT / 'calibrated'\n",
    "CAL.mkdir(parents=True, exist_ok=True)\n",
    "CALPLOT = OUT / 'calibration'\n",
    "CALPLOT.mkdir(parents=True, exist_ok=True)\n",
    "LOGS = ROOT / 'logs'\n",
    "LOGS.mkdir(parents=True, exist_ok=True)\n",
    "\n",
    "print('ROOT:', ROOT)\n",
    "print('DATA:', DATA)\n",
    "print('OUT :', OUT)\n",
    "print('CAL :', CAL)\n",
    "print('CALPLOT:', CALPLOT)\n",
    "print('LOGS:', LOGS)\n"
   ]
  },
  {
   "cell_type": "markdown",
   "metadata": {},
   "source": [
    "## 1) Environment & CLI snapshot (best‑effort)\n",
    "Captures versions and commit state for auditability. These calls are robust to missing tools.\n"
   ]
  },
  {
   "cell_type": "code",
   "execution_count": null,
   "metadata": {
    "tags": [
     "env"
    ]
   },
   "outputs": [],
   "source": [
    "def _run(cmd: str, cwd: Path | None = None):\n",
    "    print(f\"\\n$ {cmd}\")\n",
    "    try:\n",
    "        p = subprocess.run(cmd, shell=True, text=True, capture_output=True, cwd=str(cwd or ROOT))\n",
    "        out = (p.stdout or '')[-2000:]\n",
    "        err = (p.stderr or '')[-2000:]\n",
    "        print(out.strip())\n",
    "        if p.returncode != 0 and err.strip():\n",
    "            print('[stderr]', err.strip())\n",
    "        return p.returncode\n",
    "    except Exception as e:\n",
    "        print('[skip]', e)\n",
    "        return -1\n",
    "\n",
    "_run('python --version')\n",
    "_run('spectramind --version')              # unified CLI (if available)\n",
    "_run('dvc --version')                       # DVC\n",
    "_run('git rev-parse --short HEAD')          # commit id\n",
    "_run('git status -s')                       # working tree state\n",
    "\n",
    "# persist a small snapshot\n",
    "env_snapshot = {\n",
    "    'python': sys.version.split()[0],\n",
    "    'cwd': str(Path.cwd()),\n",
    "}\n",
    "with open(CALPLOT / 'env_snapshot.json', 'w') as f:\n",
    "    json.dump(env_snapshot, f, indent=2)\n",
    "print('Saved', CALPLOT / 'env_snapshot.json')\n"
   ]
  },
  {
   "cell_type": "markdown",
   "metadata": {},
   "source": [
    "## 2) Discover raw inputs under `data/`\n",
    "We will pick a sample HDF5 file for quick comparisons. If absent, the sample step still runs (CLI may locate defaults in configs)."
   ]
  },
  {
   "cell_type": "code",
   "execution_count": null,
   "metadata": {
    "tags": [
     "discover"
    ]
   },
   "outputs": [],
   "source": [
    "raw_h5 = sorted(DATA.glob('**/*.h5'))\n",
    "raw_npz = sorted(DATA.glob('**/*.npz'))\n",
    "print(f\"Found {len(raw_h5)} HDF5 and {len(raw_npz)} NPZ files under data/ (show up to 10):\")\n",
    "for p in (raw_h5[:10] + raw_npz[:10]):\n",
    "    print(' -', p.relative_to(ROOT))\n",
    "sample_raw_h5 = raw_h5[0] if raw_h5 else None\n",
    "print('\\nSample raw HDF5:', sample_raw_h5)\n"
   ]
  },
  {
   "cell_type": "markdown",
   "metadata": {},
   "source": [
    "## 3) Run a **sample calibration** via the CLI (fast path)\n",
    "This step performs a *minimal* calibration to validate the pipeline end‑to‑end. The exact settings are controlled by Hydra configs invoked by the CLI.\n",
    "\n",
    "**Commands**\n",
    "- Optional quick self‑test: `spectramind test --fast`\n",
    "- Sample calibration: `spectramind calibrate --sample 3 --outdir outputs/calibrated --fast`\n",
    "\n",
    "If the CLI is not available in this environment, these cells will simply print a note and you can run them externally.\n"
   ]
  },
  {
   "cell_type": "code",
   "execution_count": null,
   "metadata": {
    "tags": [
     "calibrate"
    ]
   },
   "outputs": [],
   "source": [
    "ret = _run('spectramind test --fast')\n",
    "ret = _run('spectramind calibrate --sample 3 --outdir outputs/calibrated --fast')\n",
    "print('Calibration command exit code:', ret)\n",
    "\n",
    "# Expected artifact(s)\n",
    "cal_h5 = CAL / 'lightcurves.h5'\n",
    "print('Calibrated file exists?', cal_h5.exists(), cal_h5)\n"
   ]
  },
  {
   "cell_type": "markdown",
   "metadata": {},
   "source": [
    "## 4) Visualize calibrated FGS1 and AIRS quick‑looks\n",
    "Reads from `outputs/calibrated/lightcurves.h5` and saves PNGs under `outputs/calibration/`.\n",
    "\n",
    "> This exploration stage should not perform any pipeline detrending; it only plots results.\n"
   ]
  },
  {
   "cell_type": "code",
   "execution_count": null,
   "metadata": {
    "tags": [
     "viz"
    ]
   },
   "outputs": [],
   "source": [
    "def _plot_fgs1_cal(h5path: Path, n: int = 20000):\n",
    "    import h5py\n",
    "    try:\n",
    "        with h5py.File(h5path, 'r') as f:\n",
    "            if 'FGS1' not in f: return False\n",
    "            g = f['FGS1']\n",
    "            t = g['time'][:]\n",
    "            y = g['cal'][:] if 'cal' in g else (g['raw'][:] if 'raw' in g else None)\n",
    "            if t is None or y is None: return False\n",
    "            if n and len(t) > n:\n",
    "                t, y = t[:n], y[:n]\n",
    "            fig, ax = plt.subplots(figsize=(12,4))\n",
    "            ax.plot(t, y, lw=0.5)\n",
    "            ax.set_title('FGS1 calibrated (sample)')\n",
    "            ax.set_xlabel('time [arb]'); ax.set_ylabel('flux [arb]')\n",
    "            fig.tight_layout(); fig.savefig(CALPLOT / 'fgs1_calibrated_segment.png', dpi=150)\n",
    "            plt.show()\n",
    "            return True\n",
    "    except Exception as e:\n",
    "        print('[skip FGS1 cal plot]', e)\n",
    "        return False\n",
    "\n",
    "def _plot_airs_cal(h5path: Path, k: int = 3):\n",
    "    import h5py\n",
    "    try:\n",
    "        with h5py.File(h5path, 'r') as f:\n",
    "            if 'AIRS' not in f: return False\n",
    "            g = f['AIRS']\n",
    "            wl = g['wavelength'][:] if 'wavelength' in g else None\n",
    "            if wl is None: return False\n",
    "            key = 'cal' if 'cal' in g else ('raw' if 'raw' in g else None)\n",
    "            if key is None: return False\n",
    "            data = g[key][:]\n",
    "            if data.ndim == 1: data = data[None, :]\n",
    "            data = data[:max(1, k)]\n",
    "\n",
    "            fig, ax = plt.subplots(figsize=(12,4))\n",
    "            for i, s in enumerate(data):\n",
    "                ax.plot(wl, s, lw=0.9, label=f'spectrum #{i}')\n",
    "            ax.set_title('AIRS calibrated spectra (sample)')\n",
    "            ax.set_xlabel('wavelength [μm]'); ax.set_ylabel('flux [arb]')\n",
    "            ax.legend(loc='best')\n",
    "            fig.tight_layout(); fig.savefig(CALPLOT / 'airs_calibrated_spectra.png', dpi=150)\n",
    "            plt.show()\n",
    "            return True\n",
    "    except Exception as e:\n",
    "        print('[skip AIRS cal plot]', e)\n",
    "        return False\n",
    "\n",
    "if cal_h5.exists():\n",
    "    ok_fgs = _plot_fgs1_cal(cal_h5)\n",
    "    ok_airs = _plot_airs_cal(cal_h5)\n",
    "else:\n",
    "    print('Calibrated artifact not found; ensure the CLI step finished successfully.')\n"
   ]
  },
  {
   "cell_type": "markdown",
   "metadata": {},
   "source": [
    "## 5) **Raw vs Calibrated** FFT power comparison (FGS1)\n",
    "If the raw HDF5 contains `FGS1/time` + `FGS1/raw`, we compare its power spectrum to the calibrated one to illustrate suppression of instrument/systematic bands. If not available, this section will skip gracefully.\n"
   ]
  },
  {
   "cell_type": "code",
   "execution_count": null,
   "metadata": {
    "tags": [
     "fft"
    ]
   },
   "outputs": [],
   "source": [
    "def _power_spectrum(x: np.ndarray):\n",
    "    x = np.asarray(x)\n",
    "    x = x - np.nanmean(x)\n",
    "    ps = np.abs(np.fft.rfft(x))**2\n",
    "    f = np.fft.rfftfreq(len(x), d=1.0)  # arbitrary sampling step\n",
    "    return f, ps\n",
    "\n",
    "def _load_fgs1_series(h5path: Path, key: str, n: int = 20000):\n",
    "    import h5py\n",
    "    with h5py.File(h5path, 'r') as f:\n",
    "        if 'FGS1' not in f: return None, None\n",
    "        g = f['FGS1']\n",
    "        t = g['time'][:] if 'time' in g else None\n",
    "        if key not in g: return None, None\n",
    "        y = g[key][:]\n",
    "        if t is None or y is None: return None, None\n",
    "        if n and len(t) > n:\n",
    "            t, y = t[:n], y[:n]\n",
    "        return t, y\n",
    "\n",
    "raw_f, raw_ps = None, None\n",
    "cal_f, cal_ps = None, None\n",
    "\n",
    "# Try raw from the discovered sample, and cal from outputs\n",
    "if sample_raw_h5 is not None:\n",
    "    t_raw, y_raw = _load_fgs1_series(sample_raw_h5, 'raw', n=20000)\n",
    "    if t_raw is not None and y_raw is not None and len(y_raw) > 32:\n",
    "        raw_f, raw_ps = _power_spectrum(y_raw)\n",
    "\n",
    "if cal_h5.exists():\n",
    "    t_cal, y_cal = _load_fgs1_series(cal_h5, 'cal', n=20000)\n",
    "    if t_cal is not None and y_cal is not None and len(y_cal) > 32:\n",
    "        cal_f, cal_ps = _power_spectrum(y_cal)\n",
    "\n",
    "if raw_ps is not None and cal_ps is not None:\n",
    "    fig, ax = plt.subplots(figsize=(12,4))\n",
    "    # ignore DC (index 0)\n",
    "    ax.semilogy(raw_f[1:], raw_ps[1:], label='raw', alpha=0.9)\n",
    "    ax.semilogy(cal_f[1:], cal_ps[1:], label='calibrated', alpha=0.9)\n",
    "    ax.set_title('FGS1 FFT power — raw vs calibrated (sample)')\n",
    "    ax.set_xlabel('frequency [arb]'); ax.set_ylabel('power')\n",
    "    ax.legend(loc='best')\n",
    "    fig.tight_layout(); fig.savefig(CALPLOT / 'fgs1_fft_raw_vs_cal.png', dpi=150)\n",
    "    plt.show()\n",
    "else:\n",
    "    print('FFT comparison skipped (raw or cal series unavailable).')\n"
   ]
  },
  {
   "cell_type": "markdown",
   "metadata": {},
   "source": [
    "## 6) Logs & DVC status (optional)\n",
    "Shows end of the CLI journal (if any), then `dvc status` to help confirm tracked artifacts are up‑to‑date.\n"
   ]
  },
  {
   "cell_type": "code",
   "execution_count": null,
   "metadata": {
    "tags": [
     "logs"
    ]
   },
   "outputs": [],
   "source": [
    "log_md = LOGS / 'v50_debug_log.md'\n",
    "print('CLI journal exists?', log_md.exists(), log_md)\n",
    "if log_md.exists():\n",
    "    try:\n",
    "        tail = '\\n'.join(log_md.read_text(errors='ignore').splitlines()[-60:])\n",
    "        print('\\n--- tail logs/v50_debug_log.md ---\\n' + tail)\n",
    "    except Exception as e:\n",
    "        print('[skip log tail]', e)\n",
    "\n",
    "_run('dvc status')\n"
   ]
  },
  {
   "cell_type": "markdown",
   "metadata": {},
   "source": [
    "## 7) Persist a **calibration report** JSON\n",
    "Stores a lightweight summary for downstream diagnostics/dashboards (paths relative to repo root).\n"
   ]
  },
  {
   "cell_type": "code",
   "execution_count": null,
   "metadata": {
    "tags": [
     "report"
    ]
   },
   "outputs": [],
   "source": [
    "report = {\n",
    "    'calibrated_artifact': str(cal_h5.relative_to(ROOT)) if cal_h5.exists() else None,\n",
    "    'plots': [\n",
    "        str((CALPLOT / 'fgs1_calibrated_segment.png').relative_to(ROOT)) if (CALPLOT / 'fgs1_calibrated_segment.png').exists() else None,\n",
    "        str((CALPLOT / 'airs_calibrated_spectra.png').relative_to(ROOT)) if (CALPLOT / 'airs_calibrated_spectra.png').exists() else None,\n",
    "        str((CALPLOT / 'fgs1_fft_raw_vs_cal.png').relative_to(ROOT)) if (CALPLOT / 'fgs1_fft_raw_vs_cal.png').exists() else None,\n",
    "    ],\n",
    "}\n",
    "with open(CALPLOT / 'calibration_report.json', 'w') as f:\n",
    "    json.dump(report, f, indent=2)\n",
    "print('Saved', CALPLOT / 'calibration_report.json')\n"
   ]
  },
  {
   "cell_type": "markdown",
   "metadata": {},
   "source": [
    "## 8) Next steps / reference CLI commands\n",
    "Keep heavy operations in the CLI. Uncomment to run in this environment if appropriate.\n",
    "\n",
    "```bash\n",
    "# Quick self‑test (fast):\n",
    "# spectramind test --fast\n",
    "\n",
    "# Sample calibration (safe):\n",
    "# spectramind calibrate --sample 3 --outdir outputs/calibrated --fast\n",
    "\n",
    "# Full calibration (example — adjust according to configs/datasets):\n",
    "# spectramind calibrate --outdir outputs/calibrated\n",
    "\n",
    "# Diagnostics dashboard (HTML under outputs/diagnostics/):\n",
    "# spectramind diagnose dashboard --no-umap=false --no-tsne=false --out outputs/diagnostics/report.html\n",
    "```\n",
    "\n",
    "**See also**: `03_train_v50_demo.ipynb` for a minimal training run and `05_diagnostics_suite.ipynb` for unified diagnostics.\n"
   ]
  }
 ],
 "metadata": {
  "kernelspec": {
   "display_name": "Python 3",
   "language": "python",
   "name": "python3"
  },
  "language_info": {
   "name": "python",
   "version": "3.10"
  }
 },
 "nbformat": 4,
 "nbformat_minor": 5
}