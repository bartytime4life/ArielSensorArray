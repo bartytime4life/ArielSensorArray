{
 "cells": [
  {
   "cell_type": "markdown",
   "id": "e93c460e",
   "metadata": {},
   "source": [
    "# 📈 SpectraMind V50 — Ensembles, MC Dropout & COREL Conformal (Notebook 08)\n",
    "\n",
    "**Goal.** Add **epistemic uncertainty** and **coverage-guaranteed intervals** on top of per-bin σ by:\n",
    "- Training **ensembles** (multi-seed or multi-arch)\n",
    "- Enabling **MC Dropout** at inference\n",
    "- Running **post-hoc calibration** (temperature scaling; optional per-wavelength)\n",
    "- Applying **COREL conformal prediction** for graph-aware coverage\n",
    "\n",
    "**Workflow**\n",
    "1. Pre-flight & environment capture\n",
    "2. Hydra overrides for ensembles, MC dropout, calibration, and COREL\n",
    "3. Train K ensemble members (looped CLI calls)\n",
    "4. Predict per member; aggregate mean/variance\n",
    "5. Temperature scaling (post-hoc)\n",
    "6. COREL conformal calibration & coverage evaluation\n",
    "7. Diagnostics dashboard + artifact tree\n",
    "\n",
    "> As with earlier notebooks, this is **CLI-first & Hydra-safe** with **DRY-RUN** fallbacks when `spectramind` is unavailable.\n"
   ]
  },
  {
   "cell_type": "code",
   "execution_count": null,
   "id": "bbf8202b",
   "metadata": {},
   "outputs": [],
   "source": [
    "# ░░ Pre-flight: env, run IDs, paths, CLI detection ░░\n",
    "import os, sys, json, platform, shutil, subprocess, datetime, pathlib\n",
    "\n",
    "RUN_TS = datetime.datetime.utcnow().strftime(\"%Y%m%dT%H%M%SZ\")\n",
    "RUN_ID = f\"uq_conformal_{RUN_TS}\"\n",
    "ROOT_OUT = \"/mnt/data/uq_conformal\"\n",
    "ARTIFACTS = os.path.join(ROOT_OUT, RUN_ID)\n",
    "LOGS = os.path.join(ARTIFACTS, \"logs\")\n",
    "CFG_OUT = os.path.join(ARTIFACTS, \"configs\")\n",
    "PRED_OUT = os.path.join(ARTIFACTS, \"predictions\")\n",
    "DIAG_OUT = os.path.join(ARTIFACTS, \"diagnostics\")\n",
    "for p in (ROOT_OUT, ARTIFACTS, LOGS, CFG_OUT, PRED_OUT, DIAG_OUT):\n",
    "    os.makedirs(p, exist_ok=True)\n",
    "\n",
    "def which(cmd: str) -> bool:\n",
    "    return shutil.which(cmd) is not None\n",
    "\n",
    "CLI_PRESENT = which(\"spectramind\")\n",
    "DRY_RUN = not CLI_PRESENT\n",
    "\n",
    "def git_cmd(args):\n",
    "    try:\n",
    "        out = subprocess.check_output([\"git\", *args], stderr=subprocess.STDOUT, timeout=5).decode().strip()\n",
    "        return out\n",
    "    except Exception:\n",
    "        return None\n",
    "\n",
    "env = {\n",
    "    \"python\": sys.version.replace(\"\\n\", \" \"),\n",
    "    \"platform\": platform.platform(),\n",
    "    \"cli_present\": CLI_PRESENT,\n",
    "    \"dry_run\": DRY_RUN,\n",
    "    \"run_id\": RUN_ID,\n",
    "    \"paths\": {\"artifacts\": ARTIFACTS, \"logs\": LOGS, \"configs\": CFG_OUT, \"predictions\": PRED_OUT, \"diagnostics\": DIAG_OUT},\n",
    "    \"git\": {\n",
    "        \"commit\": git_cmd([\"rev-parse\", \"HEAD\"]),\n",
    "        \"branch\": git_cmd([\"rev-parse\", \"--abbrev-ref\", \"HEAD\"]),\n",
    "        \"status\": git_cmd([\"status\", \"--porcelain\"]),\n",
    "    },\n",
    "}\n",
    "with open(os.path.join(ARTIFACTS, \"env.json\"), \"w\") as f:\n",
    "    json.dump(env, f, indent=2)\n",
    "\n",
    "print(\"=== SpectraMind V50 — Notebook 08 ===\")\n",
    "print(json.dumps(env, indent=2))\n"
   ]
  },
  {
   "cell_type": "markdown",
   "id": "ad234810",
   "metadata": {},
   "source": [
    "## Compose Hydra overrides for Ensembles, MC Dropout, Calibration & COREL\n",
    "\n",
    "**Toggles (adjust to your repo’s `configs/`):**\n",
    "- `uq.ensemble.enable=true`, `uq.ensemble.size=5`\n",
    "- `uq.mc_dropout.enable=true`, with `keep_prob` or `p`, and `mc_samples=30`\n",
    "- `calibration.temperature.enable=true` (optionally per-wavelength)\n",
    "- `conformal.corel.enable=true`, e.g., `coverage=0.9`, graph spec for AIRS bins\n",
    "\n",
    "We keep epochs small for demo; run ablations later for full sweeps.\n"
   ]
  },
  {
   "cell_type": "code",
   "execution_count": null,
   "id": "12d53efe",
   "metadata": {},
   "outputs": [],
   "source": [
    "import json, os\n",
    "\n",
    "overrides = {\n",
    "    # Base runtime\n",
    "    \"data\": \"ariel_nominal\",\n",
    "    \"model\": \"v50\",                 # swap with 'hf_vit' or others if desired\n",
    "    \"training.max_epochs\": \"6\",\n",
    "    \"training.batch_size\": \"16\",\n",
    "    \"training.seed\": \"1337\",\n",
    "    # Ensemble\n",
    "    \"uq.ensemble.enable\": \"true\",\n",
    "    \"uq.ensemble.size\": \"5\",\n",
    "    # MC Dropout\n",
    "    \"uq.mc_dropout.enable\": \"true\",\n",
    "    \"uq.mc_dropout.p\": \"0.1\",\n",
    "    \"uq.mc_dropout.mc_samples\": \"30\",\n",
    "    # Temperature scaling\n",
    "    \"calibration.temperature.enable\": \"true\",\n",
    "    \"calibration.temperature.per_wavelength\": \"false\",\n",
    "    # COREL conformal\n",
    "    \"conformal.corel.enable\": \"true\",\n",
    "    \"conformal.corel.coverage\": \"0.90\",\n",
    "    \"conformal.corel.graph\": \"airs_default\",\n",
    "    # Mixed precision (optional)\n",
    "    \"training.mixed_precision\": \"fp16\",\n",
    "}\n",
    "\n",
    "cfg_file = os.path.join(CFG_OUT, \"uq_corel_overrides.json\")\n",
    "with open(cfg_file, \"w\") as f:\n",
    "    json.dump(overrides, f, indent=2)\n",
    "print(\"Saved overrides ->\", cfg_file)\n",
    "print(json.dumps(overrides, indent=2))\n"
   ]
  },
  {
   "cell_type": "markdown",
   "id": "a8297179",
   "metadata": {},
   "source": [
    "## Helper: robust CLI runner (DRY-RUN when CLI not present)"
   ]
  },
  {
   "cell_type": "code",
   "execution_count": null,
   "id": "2da63edd",
   "metadata": {},
   "outputs": [],
   "source": [
    "import shlex, time\n",
    "\n",
    "def run_cli(cmd_list, log_name=\"run\"):\n",
    "    log_path = os.path.join(LOGS, f\"{log_name}.log\")\n",
    "    err_path = os.path.join(LOGS, f\"{log_name}.err\")\n",
    "    start = time.time()\n",
    "    result = {\"cmd\": cmd_list, \"dry_run\": DRY_RUN, \"returncode\": 0, \"stdout\": \"\", \"stderr\": \"\"}\n",
    "    if DRY_RUN:\n",
    "        msg = f\"[DRY-RUN] Would execute: {' '.join(shlex.quote(c) for c in cmd_list)}\\n\"\n",
    "        result[\"stdout\"] = msg\n",
    "        with open(log_path, \"w\") as f: f.write(msg)\n",
    "        with open(err_path, \"w\") as f: f.write(\"\")\n",
    "        placeholder = os.path.join(ARTIFACTS, \"dry_run_placeholder.txt\")\n",
    "        with open(placeholder, \"a\") as f: f.write(msg)\n",
    "        return result\n",
    "\n",
    "    with open(log_path, \"wb\") as out, open(err_path, \"wb\") as err:\n",
    "        try:\n",
    "            proc = subprocess.Popen(cmd_list, stdout=out, stderr=err, env=os.environ.copy())\n",
    "            proc.wait()\n",
    "            result[\"returncode\"] = proc.returncode\n",
    "        except Exception as e:\n",
    "            result[\"returncode\"] = 99\n",
    "            with open(err_path, \"ab\") as errf:\n",
    "                errf.write(str(e).encode())\n",
    "\n",
    "    try:\n",
    "        result[\"stdout\"] = open(log_path, \"r\").read()\n",
    "    except Exception:\n",
    "        pass\n",
    "    try:\n",
    "        result[\"stderr\"] = open(err_path, \"r\").read()\n",
    "    except Exception:\n",
    "        pass\n",
    "    result[\"elapsed_sec\"] = round(time.time() - start, 3)\n",
    "    print(f\"[rc={result['returncode']}] logs: {log_path}\")\n",
    "    return result\n"
   ]
  },
  {
   "cell_type": "markdown",
   "id": "9e3c7e88",
   "metadata": {},
   "source": [
    "## Train **K** ensemble members"
   ]
  },
  {
   "cell_type": "code",
   "execution_count": null,
   "id": "2e947730",
   "metadata": {},
   "outputs": [],
   "source": [
    "K = int(overrides.get(\"uq.ensemble.size\", \"5\"))\n",
    "base_seed = int(overrides.get(\"training.seed\", \"1337\"))\n",
    "run_dirs = []\n",
    "\n",
    "for k in range(K):\n",
    "    seed = base_seed + k\n",
    "    run_name = f\"member_{k:02d}_seed_{seed}\"\n",
    "    out_dir = os.path.join(PRED_OUT, run_name)\n",
    "    os.makedirs(out_dir, exist_ok=True)\n",
    "    run_dirs.append(out_dir)\n",
    "\n",
    "    cmd = [\"spectramind\", \"train\",\n",
    "           \"--config-name\", \"config_v50.yaml\",\n",
    "           \"+outputs.root_dir=\" + out_dir,\n",
    "           f\"+training.seed={seed}\"]\n",
    "    for key, val in overrides.items():\n",
    "        cmd.append(f\"+{key}={val}\")\n",
    "    cmd += [\"+training.fast_mode=true\"]\n",
    "    res = run_cli(cmd, log_name=f\"01_train_{run_name}\")\n",
    "    print(res[\"stdout\"][:300])\n"
   ]
  },
  {
   "cell_type": "markdown",
   "id": "a0064dee",
   "metadata": {},
   "source": [
    "## Predict for each member and **aggregate**"
   ]
  },
  {
   "cell_type": "code",
   "execution_count": null,
   "id": "1fb6348f",
   "metadata": {},
   "outputs": [],
   "source": [
    "pred_dirs = []\n",
    "for out_dir in run_dirs:\n",
    "    pred_dir = os.path.join(out_dir, \"pred\")\n",
    "    os.makedirs(pred_dir, exist_ok=True)\n",
    "    pred_dirs.append(pred_dir)\n",
    "    cmd_pred = [\"spectramind\", \"predict\",\n",
    "                \"--config-name\", \"config_v50.yaml\",\n",
    "                \"+load.from_checkpoint=true\",\n",
    "                \"+outputs.root_dir=\" + pred_dir]\n",
    "    for key, val in overrides.items():\n",
    "        cmd_pred.append(f\"+{key}={val}\")\n",
    "    cmd_pred += [\"+inference.save_mu_sigma=true\"]\n",
    "    res_p = run_cli(cmd_pred, log_name=f\"02_predict_{os.path.basename(out_dir)}\")\n",
    "    print(res_p[\"stdout\"][:300])\n",
    "\n",
    "agg_dir = os.path.join(PRED_OUT, \"ensemble_aggregate\")\n",
    "os.makedirs(agg_dir, exist_ok=True)\n",
    "cmd_agg = [\"spectramind\", \"diagnose\", \"ensemble-aggregate\",\n",
    "           \"--inputs\"] + pred_dirs + [\"--out\", agg_dir]\n",
    "res_agg = run_cli(cmd_agg, log_name=\"03_ensemble_aggregate\")\n",
    "print(res_agg[\"stdout\"][:300])\n"
   ]
  },
  {
   "cell_type": "markdown",
   "id": "a11e7e03",
   "metadata": {},
   "source": [
    "## Temperature scaling (post-hoc)"
   ]
  },
  {
   "cell_type": "code",
   "execution_count": null,
   "id": "36b81dc6",
   "metadata": {},
   "outputs": [],
   "source": [
    "cal_dir = os.path.join(DIAG_OUT, \"temperature_scaling\")\n",
    "os.makedirs(cal_dir, exist_ok=True)\n",
    "cmd_ts = [\"spectramind\", \"calibrate\", \"temperature\",\n",
    "          \"--pred\", os.path.join(PRED_OUT, \"ensemble_aggregate\"),\n",
    "          \"--out\", cal_dir,\n",
    "          \"--mode\", \"global\"]\n",
    "res_ts = run_cli(cmd_ts, log_name=\"04_temperature_scaling\")\n",
    "print(res_ts[\"stdout\"][:300])\n"
   ]
  },
  {
   "cell_type": "markdown",
   "id": "1c205fc5",
   "metadata": {},
   "source": [
    "## COREL conformal calibration"
   ]
  },
  {
   "cell_type": "code",
   "execution_count": null,
   "id": "8c087b2e",
   "metadata": {},
   "outputs": [],
   "source": [
    "corel_dir = os.path.join(DIAG_OUT, \"corel\")\n",
    "os.makedirs(corel_dir, exist_ok=True)\n",
    "cmd_corel_fit = [\"spectramind\", \"conformal\", \"corel-fit\",\n",
    "                 \"--pred\", os.path.join(PRED_OUT, \"ensemble_aggregate\"),\n",
    "                 \"--out\", corel_dir,\n",
    "                 \"--coverage\", overrides.get(\"conformal.corel.coverage\", \"0.90\"),\n",
    "                 \"--graph\", overrides.get(\"conformal.corel.graph\", \"airs_default\")]\n",
    "res_corel_fit = run_cli(cmd_corel_fit, log_name=\"05_corel_fit\")\n",
    "print(res_corel_fit[\"stdout\"][:300])\n",
    "\n",
    "cmd_corel_eval = [\"spectramind\", \"conformal\", \"corel-eval\",\n",
    "                  \"--model\", corel_dir, \"--out\", os.path.join(corel_dir, \"eval.json\")]\n",
    "res_corel_eval = run_cli(cmd_corel_eval, log_name=\"06_corel_eval\")\n",
    "print(res_corel_eval[\"stdout\"][:300])\n"
   ]
  },
  {
   "cell_type": "markdown",
   "id": "2d529874",
   "metadata": {},
   "source": [
    "## Diagnostics dashboard"
   ]
  },
  {
   "cell_type": "code",
   "execution_count": null,
   "id": "b22a2f81",
   "metadata": {},
   "outputs": [],
   "source": [
    "dash_path = os.path.join(DIAG_OUT, \"diagnostic_report_uq_corel_v1.html\")\n",
    "cmd_dash = [\"spectramind\", \"diagnose\", \"dashboard\",\n",
    "            \"--out\", dash_path,\n",
    "            \"--include-coverage\", \"true\"]\n",
    "res_dash = run_cli(cmd_dash, log_name=\"07_dashboard\")\n",
    "print(res_dash[\"stdout\"][:300])\n",
    "print(\"Dashboard:\", dash_path)\n"
   ]
  },
  {
   "cell_type": "markdown",
   "id": "01d4203c",
   "metadata": {},
   "source": [
    "## Browse produced artifacts"
   ]
  },
  {
   "cell_type": "code",
   "execution_count": null,
   "id": "4cb98689",
   "metadata": {},
   "outputs": [],
   "source": [
    "import os\n",
    "\n",
    "def tree(path, prefix=\"\"):\n",
    "    items = sorted(os.listdir(path))\n",
    "    lines = []\n",
    "    for i, name in enumerate(items):\n",
    "        full = os.path.join(path, name)\n",
    "        connector = \"└── \" if i == len(items)-1 else \"├── \"\n",
    "        lines.append(prefix + connector + name)\n",
    "        if os.path.isdir(full):\n",
    "            extension = \"    \" if i == len(items)-1 else \"│   \"\n",
    "            lines.extend(tree(full, prefix + extension))\n",
    "    return lines\n",
    "\n",
    "print(\"ARTIFACTS TREE:\", ARTIFACTS)\n",
    "print(\"\\n\".join(tree(ARTIFACTS)))\n"
   ]
  },
  {
   "cell_type": "markdown",
   "id": "f5d33a06",
   "metadata": {},
   "source": [
    "## Pipeline sketch (Mermaid)\n",
    "\n",
    "```mermaid\n",
    "flowchart LR\n",
    "  A[Train K ensemble members] --> B[Predict each + MC Dropout]\n",
    "  B --> C[Aggregate μ,σ; compute epistemic variance]\n",
    "  C --> D[Temp scaling (post-hoc)]\n",
    "  D --> E[COREL conformal fit + eval (coverage)]\n",
    "  E --> F[Diagnostics dashboard / CI]\n",
    "```\n",
    "\n",
    "## Next steps\n",
    "- Sweep **ensemble size, MC samples, dropout p**, and **coverage** via `spectramind ablate`.\n",
    "- Try **per-wavelength** temperature scaling (if supported) and compare GLL/coverage.\n",
    "- Export JSON summaries for CI gating and archive HTML in versioned reports.\n"
   ]
  }
 ],
 "metadata": {
  "kernelspec": {
   "display_name": "Python 3",
   "language": "python",
   "name": "python3"
  },
  "language_info": {
   "name": "python",
   "version": "3.11.8"
  }
 },
 "nbformat": 4,
 "nbformat_minor": 5
}
