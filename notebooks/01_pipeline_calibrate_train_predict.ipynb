{
 "cells": [
  {
   "cell_type": "markdown",
   "metadata": {},
   "source": [
    "# SpectraMind V50 — Mini Pipeline\n",
    "\n",
    "Calibrate → Train (1 epoch) → Predict (submission CSV).\n",
    "\n",
    "**Note**: For the full run, use `make e2e`. This notebook runs a tiny version suitable for local demo."
   ]
  },
  {
   "cell_type": "code",
   "execution_count": null,
   "metadata": {},
   "outputs": [],
   "source": [
    "import os, shlex, subprocess, sys\n",
    "from pathlib import Path\n",
    "\n",
    "def choose_cli() -> str:\n",
    "    def ok(cmd: str) -> bool:\n",
    "        try:\n",
    "            subprocess.run(cmd + \" --help\", shell=True, check=True, stdout=subprocess.PIPE, stderr=subprocess.PIPE)\n",
    "            return True\n",
    "        except Exception:\n",
    "            return False\n",
    "    for cmd in (\"poetry run spectramind\", \"spectramind\", f\"{shlex.quote(sys.executable)} -m spectramind\"):\n",
    "        if ok(cmd):\n",
    "            return cmd\n",
    "    return \"spectramind\"\n",
    "\n",
    "CLI = choose_cli()\n",
    "OUT_DIR = Path(\"outputs\")\n",
    "DIAG_DIR = OUT_DIR / \"diagnostics\"\n",
    "OUT_DIR.mkdir(exist_ok=True)\n",
    "DIAG_DIR.mkdir(parents=True, exist_ok=True)\n",
    "CLI"
   ]
  },
  {
   "cell_type": "markdown",
   "metadata": {},
   "source": [
    "## 1) Calibrate (toy / fast)\n",
    "Produces science‑ready light‑curves/spectra in `outputs/calibrated/`."
   ]
  },
  {
   "cell_type": "code",
   "execution_count": null,
   "metadata": {},
   "outputs": [],
   "source": [
    "subprocess.run(CLI + \" calibrate +data.split=toy\", shell=True, check=False)"
   ]
  },
  {
   "cell_type": "markdown",
   "metadata": {},
   "source": [
    "## 2) Train (1 epoch, light mode)\n",
    "Writes checkpoints and logs to `outputs/checkpoints/`."
   ]
  },
  {
   "cell_type": "code",
   "execution_count": null,
   "metadata": {},
   "outputs": [],
   "source": [
    "subprocess.run(CLI + \" train +training.epochs=1 +diagnostics.light=true\", shell=True, check=False)"
   ]
  },
  {
   "cell_type": "markdown",
   "metadata": {},
   "source": [
    "## 3) Predict\n",
    "Generates a submission CSV: `outputs/submission.csv`."
   ]
  },
  {
   "cell_type": "code",
   "execution_count": null,
   "metadata": {},
   "outputs": [],
   "source": [
    "subprocess.run(CLI + \" predict --out-csv outputs/submission.csv\", shell=True, check=False)\n",
    "Path(\"outputs/submission.csv\").exists()"
   ]
  }
 ],
 "metadata": {
  "kernelspec": {
   "display_name": "Python 3",
   "language": "python",
   "name": "python3"
  },
  "language_info": {
   "name": "python",
   "version": "3.11"
  }
 },
 "nbformat": 4,
 "nbformat_minor": 5
}