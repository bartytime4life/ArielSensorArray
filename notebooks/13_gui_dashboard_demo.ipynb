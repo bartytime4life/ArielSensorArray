{
  "nbformat": 4,
  "nbformat_minor": 5,
  "metadata": {
    "kernelspec": { "display_name": "Python 3", "language": "python", "name": "python3" },
    "language_info": { "name": "python", "version": "3.10" },
    "title": "13_gui_dashboard_demo.ipynb",
    "authors": ["SpectraMind V50 Team"],
    "spectramind": {
      "role": "ui/demo",
      "cli_first": true,
      "outputs_dir": "outputs/notebooks/13_gui_dashboard_demo",
      "reproducibility": { "hydra": true, "dvc": true, "logs": true }
    }
  },
  "cells": [
    {
      "cell_type": "markdown",
      "metadata": {},
      "source": [
        "# 13 · GUI Dashboard Demo (SpectraMind V50)\n",
        "\n",
        "Thin, **CLI‑first** viewer that launches/embeds the generated diagnostics dashboard (HTML) and provides a light local server for browsing artifacts under `outputs/`.\n",
        "\n",
        "**What this notebook does**\n",
        "1) Locates a previously generated diagnostics HTML (e.g., `outputs/diagnostics/report.html` or a run‑scoped diagnostics file).\n",
        "2) (Optional) Calls the CLI to generate the dashboard if missing.\n",
        "3) Displays the dashboard **in‑notebook** via an iframe.\n",
        "4) (Optional) Starts a simple local HTTP server to browse `outputs/` (for local dev; disabled on Kaggle).\n",
        "5) Writes a small viewer **manifest** under `outputs/notebooks/13_gui_dashboard_demo/`.\n",
        "\n",
        "> Contract: This is a **thin viewer**. No pipeline logic here — we only call the official CLI and render the resulting HTML.\n"
      ]
    },
    {
      "cell_type": "code",
      "metadata": { "tags": ["init"] },
      "execution_count": null,
      "outputs": [],
      "source": [
        "import os, sys, json, shutil, subprocess, platform, socket, contextlib\n",
        "from pathlib import Path\n",
        "from datetime import datetime\n",
        "\n",
        "ROOT = Path.cwd().resolve()\n",
        "NB_OUT = ROOT / 'outputs' / 'notebooks' / '13_gui_dashboard_demo'\n",
        "NB_OUT.mkdir(parents=True, exist_ok=True)\n",
        "\n",
        "IS_KAGGLE = Path('/kaggle/working').exists()\n",
        "CLI = shutil.which('spectramind') or (f\"{sys.executable} {ROOT/'spectramind.py'}\" if (ROOT/'spectramind.py').exists() else f\"{sys.executable} -m spectramind\")\n",
        "\n",
        "env = {\n",
        "    'python': platform.python_version(),\n",
        "    'platform': platform.platform(),\n",
        "    'is_kaggle': IS_KAGGLE,\n",
        "    'cli': CLI\n",
        "}\n",
        "(NB_OUT/'env_snapshot.json').write_text(json.dumps(env, indent=2))\n",
        "print(json.dumps(env, indent=2))"
      ]
    },
    {
      "cell_type": "markdown",
      "metadata": {},
      "source": [
        "## Parameters\n",
        "Edit if you need to point at a specific run or force dashboard generation."
      ]
    },
    {
      "cell_type": "code",
      "metadata": { "tags": ["params"] },
      "execution_count": null,
      "outputs": [],
      "source": [
        "# Where to look for an existing diagnostics HTML\n",
        "REPORT_HINTS = [\n",
        "    ROOT/'outputs'/'diagnostics'/'report.html',\n",
        "    ROOT/'outputs',       # scan recursively for *.html with 'diagnostic' in name\n",
        "]\n",
        "\n",
        "# If True, call the CLI to (re)generate the dashboard when not found\n",
        "AUTO_GENERATE_DASHBOARD = False  # toggle on if you want the notebook to call the CLI\n",
        "\n",
        "# If generating via CLI, write to this path (adjust per your repo):\n",
        "CLI_DASHBOARD_OUT = ROOT/'outputs'/'diagnostics'/'report.html'\n",
        "\n",
        "print('REPORT_HINTS:', [str(p) for p in REPORT_HINTS])\n",
        "print('AUTO_GENERATE_DASHBOARD:', AUTO_GENERATE_DASHBOARD)\n",
        "print('CLI_DASHBOARD_OUT:', CLI_DASHBOARD_OUT)"
      ]
    },
    {
      "cell_type": "markdown",
      "metadata": {},
      "source": [
        "## Locate existing dashboard report\n",
        "We try direct paths first, then recursively search `outputs/` for files that look like diagnostics dashboards."
      ]
    },
    {
      "cell_type": "code",
      "metadata": { "tags": ["discover"] },
      "execution_count": null,
      "outputs": [],
      "source": [
        "from typing import Optional\n",
        "\n",
        "def newest_dashboard(hints) -> Optional[Path]:\n",
        "    cands = []\n",
        "    for h in hints:\n",
        "        if not h.exists():\n",
        "            continue\n",
        "        if h.is_file() and h.suffix.lower() == '.html':\n",
        "            cands.append(h)\n",
        "        elif h.is_dir():\n",
        "            for p in h.rglob('*.html'):\n",
        "                name = p.name.lower()\n",
        "                if any(tok in name for tok in ('diagnostic','dashboard','report')):\n",
        "                    cands.append(p)\n",
        "    if not cands:\n",
        "        return None\n",
        "    return sorted(cands, key=lambda p: p.stat().st_mtime)[-1]\n",
        "\n",
        "REPORT = newest_dashboard(REPORT_HINTS)\n",
        "print('Found dashboard:', REPORT)"
      ]
    },
    {
      "cell_type": "markdown",
      "metadata": {},
      "source": [
        "## (Optional) Generate the dashboard via CLI\n",
        "This only runs when `AUTO_GENERATE_DASHBOARD=True`. Adjust the command to match your repository (e.g., `spectramind diagnose dashboard`)."
      ]
    },
    {
      "cell_type": "code",
      "metadata": { "tags": ["cli"] },
      "execution_count": null,
      "outputs": [],
      "source": [
        "if AUTO_GENERATE_DASHBOARD:\n",
        "    try:\n",
        "        cmd = [\n",
        "            *CLI.split(), 'diagnose', 'dashboard',\n",
        "            f'--out', str(CLI_DASHBOARD_OUT)\n",
        "        ]\n",
        "        print('Running:', ' '.join(cmd))\n",
        "        subprocess.run(cmd, check=True)\n",
        "        REPORT = CLI_DASHBOARD_OUT if CLI_DASHBOARD_OUT.exists() else newest_dashboard([ROOT/'outputs'])\n",
        "        print('Generated report ->', REPORT)\n",
        "    except Exception as e:\n",
        "        print('CLI dashboard generation failed (non‑blocking):', e)\n",
        "else:\n",
        "    print('CLI generation disabled; using existing artifacts only.')"
      ]
    },
    {
      "cell_type": "markdown",
      "metadata": {},
      "source": [
        "## In‑notebook viewer\n",
        "Renders the dashboard using an iframe. On Kaggle, this is the preferred way (no external ports)."
      ]
    },
    {
      "cell_type": "code",
      "metadata": { "tags": ["iframe"] },
      "execution_count": null,
      "outputs": [],
      "source": [
        "from IPython.display import IFrame, display, HTML\n",
        "\n",
        "if REPORT and REPORT.exists():\n",
        "    # Use relative path when possible so the iframe can resolve asset links\n",
        "    rel = REPORT.relative_to(ROOT)\n",
        "    print('Displaying:', rel)\n",
        "    display(IFrame(src=str(rel), width='100%', height=700))\n",
        "else:\n",
        "    print('No diagnostics HTML found. Enable AUTO_GENERATE_DASHBOARD or populate outputs/diagnostics/.')"
      ]
    },
    {
      "cell_type": "markdown",
      "metadata": {},
      "source": [
        "## (Optional) Lightweight local server (for local dev only)\n",
        "Starts a simple `http.server` to browse `outputs/`. **Not** recommended on Kaggle (no external ports). Set `START_SERVER=True` only on your workstation."
      ]
    },
    {
      "cell_type": "code",
      "metadata": { "tags": ["server"] },
      "execution_count": null,
      "outputs": [],
      "source": [
        "START_SERVER = False  # toggle True for local dev only\n",
        "SERVER_ROOT = ROOT/'outputs'\n",
        "\n",
        "def free_port(start=8000, end=8999):\n",
        "    for port in range(start, end+1):\n",
        "        with contextlib.closing(socket.socket(socket.AF_INET, socket.SOCK_STREAM)) as s:\n",
        "            if s.connect_ex(('127.0.0.1', port)) != 0:\n",
        "                return port\n",
        "    return None\n",
        "\n",
        "if START_SERVER and not IS_KAGGLE:\n",
        "    port = free_port()\n",
        "    if port is None:\n",
        "        print('No free port found.');\n",
        "    else:\n",
        "        print(f'Launching local server at http://127.0.0.1:{port}/ (root={SERVER_ROOT})')\n",
        "        print('Stop the server by interrupting the cell (Kernel -> Interrupt).')\n",
        "        os.chdir(SERVER_ROOT)\n",
        "        try:\n",
        "            from http.server import ThreadingHTTPServer, SimpleHTTPRequestHandler\n",
        "        except Exception:\n",
        "            from http.server import HTTPServer as ThreadingHTTPServer, SimpleHTTPRequestHandler\n",
        "        handler = SimpleHTTPRequestHandler\n",
        "        httpd = ThreadingHTTPServer(('127.0.0.1', port), handler)\n",
        "        try:\n",
        "            httpd.serve_forever()\n",
        "        except KeyboardInterrupt:\n",
        "            print('Shutting down server...')\n",
        "            httpd.server_close()\n",
        "else:\n",
        "    print('Local server disabled (or running on Kaggle).')"
      ]
    },
    {
      "cell_type": "markdown",
      "metadata": {},
      "source": [
        "## (Optional) Streamlit/Gradio mini‑app\n",
        "For a richer demo, you can spin up Streamlit/Gradio to serve your plots. This is **off** by default to avoid extra dependencies and network binding issues in shared environments.\n",
        "\n",
        "Uncomment and adapt the code below if you need it locally."
      ]
    },
    {
      "cell_type": "code",
      "metadata": { "tags": ["app"] },
      "execution_count": null,
      "outputs": [],
      "source": [
        "USE_STREAMLIT = False\n",
        "if USE_STREAMLIT and not IS_KAGGLE:\n",
        "    try:\n",
        "        import streamlit as st  # ensure installed in your env\n",
        "    except Exception:\n",
        "        print('Install streamlit first (pip install streamlit)');\n",
        "        USE_STREAMLIT = False\n",
        "\n",
        "if USE_STREAMLIT:\n",
        "    # Example: write a simple app file and run it\n",
        "    app_py = NB_OUT/'dashboard_app.py'\n",
        "    app_py.write_text(\n",
        "        \"\"\"\n",
        "import streamlit as st\n",
        "from pathlib import Path\n",
        "st.set_page_config(layout='wide')\n",
        "st.title('SpectraMind V50 — Diagnostics Dashboard')\n",
        "report = Path('outputs/diagnostics/report.html')\n",
        "if report.exists():\n",
        "    st.components.v1.html(report.read_text(encoding='utf-8'), height=900, scrolling=True)\n",
        "else:\n",
        "    st.warning('No diagnostics HTML found under outputs/diagnostics/.')\n",
        "        \"\"\".strip()\n",
        "    )\n",
        "    cmd = f\"streamlit run {app_py} --server.headless=true\"\n",
        "    print('Launching:', cmd)\n",
        "    subprocess.run(cmd, shell=True, check=False)\n",
        "else:\n",
        "    print('Streamlit mini‑app disabled (or not supported in this environment).')"
      ]
    },
    {
      "cell_type": "markdown",
      "metadata": {},
      "source": [
        "## Manifest & (optional) DVC add\n",
        "We save a simple JSON manifest for this viewer session, and optionally `dvc add` the notebook outputs for full reproducibility."
      ]
    },
    {
      "cell_type": "code",
      "metadata": { "tags": ["export"] },
      "execution_count": null,
      "outputs": [],
      "source": [
        "manifest = {\n",
        "    'timestamp_utc': datetime.utcnow().isoformat(timespec='seconds')+'Z',\n",
        "    'report_path': str(REPORT) if REPORT else None,\n",
        "    'cli': CLI,\n",
        "    'is_kaggle': IS_KAGGLE\n",
        "}\n",
        "(NB_OUT/'viewer_manifest.json').write_text(json.dumps(manifest, indent=2))\n",
        "print('Wrote:', NB_OUT/'viewer_manifest.json')\n",
        "\n",
        "if shutil.which('dvc'):\n",
        "    try:\n",
        "        subprocess.run(['dvc','add', str(NB_OUT)], check=False)\n",
        "        subprocess.run(['git','add', f'{NB_OUT}.dvc', '.gitignore'], check=False)\n",
        "        subprocess.run(['dvc','status'], check=False)\n",
        "        print('DVC add done (non‑blocking).')\n",
        "    except Exception as e:\n",
        "        print('DVC step failed (non‑blocking):', e)\n",
        "else:\n",
        "    print('DVC not found; skipping.')"
      ]
    }
  ]
}