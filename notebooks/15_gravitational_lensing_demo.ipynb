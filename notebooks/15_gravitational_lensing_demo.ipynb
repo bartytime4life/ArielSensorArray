{
  "nbformat": 4,
  "nbformat_minor": 5,
  "metadata": {
    "kernelspec": { "display_name": "Python 3", "language": "python", "name": "python3" },
    "language_info": { "name": "python", "version": "3.10" },
    "title": "15_gravitational_lensing_demo.ipynb",
    "authors": ["SpectraMind V50 Team"],
    "spectramind": {
      "role": "education/physics-demo",
      "cli_first": true,
      "outputs_dir": "outputs/notebooks/15_gravitational_lensing",
      "reproducibility": { "hydra": true, "dvc": true }
    }
  },
  "cells": [
    {
      "cell_type": "markdown",
      "metadata": {},
      "source": [
        "# 15 · Gravitational Lensing Demo (SpectraMind V50)\n",
        "\n",
        "Educational, **mission‑grade** demo that shows how a simple microlensing event can bias *observed* transit data products when sampling/weighting effects are present. This notebook is **pipeline‑safe**:\n",
        "\n",
        "- It **does not** implement pipeline logic; it *reads* artifacts produced by the CLI (if present) or synthesizes a clean spectrum.\n",
        "- It simulates a **point‑lens microlensing** light curve during transit and demonstrates how temporal magnification + wavelength‑dependent weights can create apparent spectral biases.\n",
        "- Artifacts are written under `outputs/notebooks/15_gravitational_lensing/` for DVC tracking.\n",
        "\n",
        "**What you'll do**\n",
        "1. Load a base transmission spectrum (from `outputs/` or synthesize).\n",
        "2. Simulate microlensing magnification `A(t)` with typical point‑lens formula.\n",
        "3. Combine `A(t)` with a simple exposure model and wavelength‑dependent weights to build an **effective** spectrum.\n",
        "4. Compare original vs lensed spectra; visualize Einstein‑curve, residuals, and band overlays.\n",
        "5. Export a compact diagnostics bundle (JSON + CSV + PNGs)."
      ]
    },
    {
      "cell_type": "code",
      "metadata": { "tags": ["init"] },
      "execution_count": null,
      "outputs": [],
      "source": [
        "import os, sys, json, platform\n",
        "from pathlib import Path\n",
        "import numpy as np\n",
        "import pandas as pd\n",
        "import matplotlib.pyplot as plt\n",
        "import seaborn as sns\n",
        "sns.set_context('notebook'); sns.set_style('whitegrid')\n",
        "\n",
        "ROOT = Path.cwd().resolve()\n",
        "NB_OUT = ROOT / 'outputs' / 'notebooks' / '15_gravitational_lensing'\n",
        "NB_OUT.mkdir(parents=True, exist_ok=True)\n",
        "\n",
        "ENV = {'python': platform.python_version(), 'platform': platform.platform()}\n",
        "(NB_OUT/'env_snapshot.json').write_text(json.dumps(ENV, indent=2))\n",
        "print('ROOT:', ROOT) ; print('NB_OUT:', NB_OUT)"
      ]
    },
    {
      "cell_type": "markdown",
      "metadata": {},
      "source": [
        "## 0) Background: point‑lens microlensing\n",
        "For a point lens, the (achromatic) magnification for a projected separation `u = θ/θ_E` is:\n",
        "\n",
        "\\begin{equation}\n",
        "A(u) = \\frac{u^2 + 2}{u\\,\\sqrt{u^2 + 4}}\\,.\n",
        "\\end{equation}\n",
        "\n",
        "With constant proper motion, `u(t) = \\sqrt{u_0^2 + ((t - t_0)/t_E)^2}`. In reality lensing is achromatic, but **effective** spectral biases can arise if magnification varies during a transit while the instrument/pipeline applies time‑/wavelength‑dependent weights (exposure timing, throughput, flagging). We illustrate this effect using a simplified toy model."
      ]
    },
    {
      "cell_type": "markdown",
      "metadata": {},
      "source": [
        "## 1) Load base spectrum\n",
        "We attempt to load a predictions table from `outputs/` and select one spectrum; if not found, we synthesize a smooth spectrum with two absorption features."
      ]
    },
    {
      "cell_type": "code",
      "metadata": { "tags": ["io"] },
      "execution_count": null,
      "outputs": [],
      "source": [
        "def find_candidates():\n",
        "    roots = [ROOT/'outputs']\n",
        "    pats = ['**/predictions.csv','**/mu.csv','**/spectra.npy','**/mu.npy']\n",
        "    cands = []\n",
        "    for r in roots:\n",
        "        for pat in pats:\n",
        "            cands += list(r.glob(pat))\n",
        "    return sorted(set(cands), key=lambda p: p.stat().st_mtime)\n",
        "\n",
        "def load_one_spectrum(path: Path) -> pd.DataFrame:\n",
        "    if path.suffix=='.npy':\n",
        "        arr = np.load(path)\n",
        "        if arr.ndim==1: arr = arr[None,:]\n",
        "        mu = arr[0]\n",
        "        return pd.DataFrame({'wavelength_index': np.arange(len(mu)), 'mu': mu})\n",
        "    df = pd.read_csv(path)\n",
        "    cols = {c.lower(): c for c in df.columns}\n",
        "    if {'planet_id','wavelength_index','mu'}.issubset(cols):\n",
        "        one = df[df[cols['planet_id']]==df[cols['planet_id']].iloc[0]].copy()\n",
        "        one = one.rename(columns={cols['wavelength_index']:'wavelength_index', cols['mu']:'mu'})\n",
        "        return one[['wavelength_index','mu']].sort_values('wavelength_index').reset_index(drop=True)\n",
        "    mu_cols = [c for c in df.columns if str(c).startswith('mu_')]\n",
        "    if mu_cols:\n",
        "        mu = df[mu_cols].iloc[0].to_numpy(float)\n",
        "        return pd.DataFrame({'wavelength_index': np.arange(len(mu)), 'mu': mu})\n",
        "    raise ValueError(f'Unsupported schema for {path}')\n",
        "\n",
        "CANDS = find_candidates()\n",
        "if not CANDS:\n",
        "    # synthesize a clean spectrum (283 bins) with two features\n",
        "    x = np.linspace(0, 1, 283)\n",
        "    mu_clean = 0.01 + 0.002*np.exp(-0.5*((x-0.30)/0.06)**2) + 0.0015*np.exp(-0.5*((x-0.70)/0.05)**2)\n",
        "    base = pd.DataFrame({'wavelength_index': np.arange(283), 'mu': mu_clean})\n", 
        "    print('No outputs found; using synthetic spectrum.')\n",
        "else:\n",
        "    base = load_one_spectrum(CANDS[-1])\n",
        "    print('Loaded from:', CANDS[-1].relative_to(ROOT))\n",
        "base.head()"
      ]
    },
    {
      "cell_type": "code",
      "metadata": { "tags": ["viz_base"] },
      "execution_count": null,
      "outputs": [],
      "source": [
        "plt.figure(figsize=(10,3))\n",
        "plt.plot(base['wavelength_index'], base['mu'], lw=1.5)\n",
        "plt.title('Base transmission spectrum (μ)')\n",
        "plt.xlabel('wavelength index'); plt.ylabel('μ (arb)')\n",
        "plt.tight_layout(); plt.savefig(NB_OUT/'base_spectrum.png', dpi=150); plt.close()\n",
        "print('Saved base_spectrum.png')"
      ]
    },
    {
      "cell_type": "markdown",
      "metadata": {},
      "source": [
        "## 2) Microlensing model in time\n",
        "We simulate a simple transit time series with uniform exposure spacing and a point‑lens magnification that varies across the observing window.\n",
        "\n",
        "**Parameters** (tweak to taste):\n",
        "- `u0` : minimum impact parameter in Einstein‑radius units (smaller → stronger peak).\n",
        "- `tE` : Einstein timescale half‑width (controls event duration).\n",
        "- `t0` : time of closest approach (center of peak)."
      ]
    },
    {
      "cell_type": "code",
      "metadata": { "tags": ["lensing"] },
      "execution_count": null,
      "outputs": [],
      "source": [
        "def A_point_lens(u):\n",
        "    u = np.asarray(u, float)\n",
        "    return (u*u + 2) / (u * np.sqrt(u*u + 4))\n",
        "\n",
        "def u_of_t(t, t0=0.0, u0=0.2, tE=0.3):\n",
        "    return np.sqrt(u0*u0 + ((t - t0)/tE)**2)\n",
        "\n",
        "# Exposure grid (normalized time)\n",
        "N_EXP = 200\n",
        "t = np.linspace(-0.8, 0.8, N_EXP)\n",
        "A = A_point_lens(u_of_t(t, t0=0.0, u0=0.20, tE=0.25))\n",
        "\n",
        "plt.figure(figsize=(8,3))\n",
        "plt.plot(t, A, lw=1.6)\n",
        "plt.title('Microlensing magnification A(t)')\n",
        "plt.xlabel('time [arb]'); plt.ylabel('A')\n",
        "plt.tight_layout(); plt.savefig(NB_OUT/'magnification_curve.png', dpi=150); plt.close()\n",
        "print('Saved magnification_curve.png')"
      ]
    },
    {
      "cell_type": "markdown",
      "metadata": {},
      "source": [
        "## 3) From time to effective spectrum\n",
        "In an ideal ratio measurement, pure lensing would cancel out in the transit depth. In practice, **time‑varying magnification** during the observation coupled with **wavelength‑dependent exposure/weighting** (due to throughput, flagging, or rolling shutter timing) can produce wavelength‑dependent biases.\n",
        "\n",
        "We model this by defining per‑wavelength exposure weights `W(λ)` (normalized) and computing a weighted average across time windows that intersect the lensing peak. This toy model demonstrates a possible **effective** bias."
      ]
    },
    {
      "cell_type": "code",
      "metadata": { "tags": ["weights"] },
      "execution_count": null,
      "outputs": [],
      "source": [
        "wl = base['wavelength_index'].to_numpy()\n",
        "mu = base['mu'].to_numpy(float)\n",
        "W = wl / wl.max()  # simple monotonic weight vs wavelength (proxy for throughput)\n",
        "W = (W - W.min())/(W.ptp() + 1e-12)\n",
        "W = 0.5 + 0.5*W  # scale to [0.5,1.0]\n",
        "\n",
        "# Effective lensed spectrum: weight time samples by A(t) and wavelength weights W(λ)\n",
        "# Simplified: pretend each λ samples a slightly shifted time slice (e.g., readout order)\n",
        "phase_per_wl = np.linspace(-0.15, 0.15, len(wl))  # mock readout time offset per wavelength\n",
        "A_per_wl = np.interp(phase_per_wl, t, A)\n",
        "\n",
        "mu_lensed = mu * (1.0 + (A_per_wl - 1.0)* (W))  # multiplicative bias modulated by weights\n",
        "residual = mu_lensed - mu\n",
        "\n",
        "fig, ax = plt.subplots(2,1, figsize=(10,6), sharex=True)\n",
        "ax[0].plot(wl, mu, lw=1.4, label='base μ')\n",
        "ax[0].plot(wl, mu_lensed, lw=1.2, label='effective μ (with lensing+weights)')\n",
        "ax[0].set_ylabel('μ (arb)'); ax[0].legend()\n",
        "ax[1].plot(wl, residual, lw=1.2, color='tab:red', label='residual (lensed − base)')\n",
        "ax[1].axhline(0, color='k', lw=0.7)\n",
        "ax[1].set_xlabel('wavelength index'); ax[1].set_ylabel('Δμ (arb)'); ax[1].legend()\n",
        "fig.suptitle('Effective spectrum under microlensing + wavelength weights')\n",
        "fig.tight_layout(); fig.savefig(NB_OUT/'effective_spectrum_lensing.png', dpi=150); plt.close(fig)\n",
        "print('Saved effective_spectrum_lensing.png')"
      ]
    },
    {
      "cell_type": "markdown",
      "metadata": {},
      "source": [
        "### Symbolic band overlays (educational)\n",
        "We overlay two nominal water‑band index ranges to show whether apparent residuals cluster in key regions. Replace with instrument‑accurate bands for your grid."
      ]
    },
    {
      "cell_type": "code",
      "metadata": { "tags": ["bands"] },
      "execution_count": null,
      "outputs": [],
      "source": [
        "SYM_BANDS = {\n",
        "    'H2O_1': (120, 150),\n",
        "    'H2O_2': (180, 220)\n",
        "}\n",
        "\n",
        "plt.figure(figsize=(10,3))\n",
        "plt.plot(wl, residual, lw=1.2, color='tab:red')\n",
        "for name,(a,b) in SYM_BANDS.items():\n",
        "    a,b = max(0,a), min(len(wl),b)\n",
        "    if b>a:\n",
        "        plt.axvspan(wl[a], wl[b-1], color='gray', alpha=0.18)\n",
        "        plt.text((wl[a]+wl[b-1])/2, residual.max()*0.9, name, ha='center', va='top', fontsize=8, alpha=0.8)\n",
        "plt.axhline(0, color='k', lw=0.7)\n",
        "plt.title('Residuals with symbolic band overlays')\n",
        "plt.xlabel('wavelength index'); plt.ylabel('Δμ (arb)')\n",
        "plt.tight_layout(); plt.savefig(NB_OUT/'residuals_with_bands.png', dpi=150); plt.close()\n",
        "print('Saved residuals_with_bands.png')"
      ]
    },
    {
      "cell_type": "markdown",
      "metadata": {},
      "source": [
        "## 4) Einstein‑ring radius sketch (quick look)\n",
        "We plot the classic point‑lens image separation scale as context (qualitative sketch; not used directly in spectra)."
      ]
    },
    {
      "cell_type": "code",
      "metadata": { "tags": ["einstein"] },
      "execution_count": null,
      "outputs": [],
      "source": [
        "theta = np.linspace(0, 2*np.pi, 400)\n",
        "x = np.cos(theta)\n",
        "y = np.sin(theta)\n",
        "plt.figure(figsize=(4,4))\n",
        "plt.plot(x, y, lw=1.5)\n",
        "plt.gca().set_aspect('equal', adjustable='box')\n",
        "plt.title('Einstein ring (unit radius sketch)')\n",
        "plt.axis('off')\n",
        "plt.tight_layout(); plt.savefig(NB_OUT/'einstein_ring_sketch.png', dpi=150); plt.close()\n",
        "print('Saved einstein_ring_sketch.png')"
      ]
    },
    {
      "cell_type": "markdown",
      "metadata": {},
      "source": [
        "## 5) Export bundle\n",
        "We save a compact JSON bundle and CSV for dashboards/teaching."
      ]
    },
    {
      "cell_type": "code",
      "metadata": { "tags": ["export"] },
      "execution_count": null,
      "outputs": [],
      "source": [
        "bundle = {\n",
        "  'base_source': (str(CANDS[-1].relative_to(ROOT)) if 'CANDS' in globals() and CANDS else 'synthetic'),\n",
        "  'n_exp': int(len(np.linspace(-0.8,0.8,200))),\n",
        "  'figures': [\n",
        "      'base_spectrum.png',\n",
        "      'magnification_curve.png',\n",
        "      'effective_spectrum_lensing.png',\n",
        "      'residuals_with_bands.png',\n",
        "      'einstein_ring_sketch.png'\n",
        "  ],\n",
        "  'notes': 'Toy model: achromatic microlensing + wavelength/time weighting may yield effective spectral bias.'\n",
        "}\n",
        "(NB_OUT/'lensing_demo_bundle.json').write_text(json.dumps(bundle, indent=2))\n",
        "pd.DataFrame({'wavelength_index': wl, 'mu_base': mu, 'mu_lensed': mu_lensed, 'residual': residual}).to_csv(NB_OUT/'lensing_demo_detail.csv', index=False)\n",
        "print('Wrote bundle & detail CSV to', NB_OUT)"
      ]
    },
    {
      "cell_type": "markdown",
      "metadata": {},
      "source": [
        "## 6) (Optional) DVC add\n",
        "Register outputs for full reproducibility if your project uses DVC."
      ]
    },
    {
      "cell_type": "code",
      "metadata": { "tags": ["dvc"] },
      "execution_count": null,
      "outputs": [],
      "source": [
        "import shutil, subprocess\n",
        "if shutil.which('dvc'):\n",
        "    try:\n",
        "        subprocess.run(['dvc','add', str(NB_OUT)], check=False)\n",
        "        subprocess.run(['git','add', f'{NB_OUT}.dvc', '.gitignore'], check=False)\n",
        "        subprocess.run(['dvc','status'], check=False)\n",
        "        print('DVC add done (non‑blocking).')\n",
        "    except Exception as e:\n",
        "        print('DVC step failed (non‑blocking):', e)\n",
        "else:\n",
        "    print('DVC not found; skipping.')"
      ]
    },
    {
      "cell_type": "markdown",
      "metadata": {},
      "source": [
        "---\n",
        "### Notes & caveats\n",
        "- **Achromatic** lensing by itself does *not* change intrinsic spectral features; apparent biases here arise from simplified time/weight coupling used for demonstration.\n",
        "- For realistic use, replace the weight model `W(λ)` and timing offsets with instrument‑specific readout/throughput and sampling.\n",
        "- Keep production spectra in the CLI calibration/prediction pipeline; use this notebook for physics intuition and QA visualization only."
      ]
    }
  ]
}