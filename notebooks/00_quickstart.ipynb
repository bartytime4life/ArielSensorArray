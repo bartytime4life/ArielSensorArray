{
 "cells": [
  {
   "cell_type": "markdown",
   "metadata": {},
   "source": [
    "# SpectraMind V50 — Quickstart\n",
    "\n",
    "Environment sanity, CLI probes, and a reproducible run hash.\n",
    "\n",
    "> This notebook calls the **Typer CLI** under the hood. For a full pipeline, prefer:\n",
    ">\n",
    "> ```bash\n",
    "> make e2e\n",
    "> ```"
   ]
  },
  {
   "cell_type": "code",
   "execution_count": null,
   "metadata": {},
   "outputs": [],
   "source": [
    "import sys, platform, json, os, subprocess, shlex, hashlib\n",
    "from pathlib import Path\n",
    "\n",
    "ROOT = Path.cwd()\n",
    "print(\"python:\", sys.version.replace(\"\\n\",\" \"))\n",
    "print(\"platform:\", platform.platform())\n",
    "print(\"root:\", ROOT)\n",
    "\n",
    "# Ensure expected dirs exist\n",
    "for p in (ROOT/\"outputs\", ROOT/\"logs\", ROOT/\"outputs\"/\"diagnostics\"):\n",
    "    p.mkdir(parents=True, exist_ok=True)\n",
    "print(\"prepared:\", \"outputs/\", \"logs/\", \"outputs/diagnostics/\")"
   ]
  },
  {
   "cell_type": "markdown",
   "metadata": {},
   "source": [
    "## Resolve CLI\n",
    "We try these in order:\n",
    "1. `poetry run spectramind`\n",
    "2. `spectramind`\n",
    "3. `python -m spectramind`"
   ]
  },
  {
   "cell_type": "code",
   "execution_count": null,
   "metadata": {},
   "outputs": [],
   "source": [
    "def choose_cli() -> str:\n",
    "    def ok(cmd: str) -> bool:\n",
    "        try:\n",
    "            subprocess.run(cmd + \" --help\", shell=True, check=True, stdout=subprocess.PIPE, stderr=subprocess.PIPE)\n",
    "            return True\n",
    "        except Exception:\n",
    "            return False\n",
    "    for cmd in (\"poetry run spectramind\", \"spectramind\", f\"{shlex.quote(sys.executable)} -m spectramind\"):\n",
    "        if ok(cmd):\n",
    "            return cmd\n",
    "    return \"spectramind\"  # last resort; may fail visibly\n",
    "\n",
    "CLI = choose_cli()\n",
    "CLI"
   ]
  },
  {
   "cell_type": "markdown",
   "metadata": {},
   "source": [
    "## Self‑test (fast)\n",
    "Runs deterministic smoke checks (env, imports, CLI help, dry‑runs)."
   ]
  },
  {
   "cell_type": "code",
   "execution_count": null,
   "metadata": {
    "tags": []
   },
   "outputs": [],
   "source": [
    "print(\"Running fast selftest via CLI…\\n\")\n",
    "subprocess.run(CLI + \" selftest --fast\", shell=True, check=False)"
   ]
  },
  {
   "cell_type": "markdown",
   "metadata": {},
   "source": [
    "## Config Hash\n",
    "Compute a sha256 of the active Hydra config to aid reproducibility."
   ]
  },
  {
   "cell_type": "code",
   "execution_count": null,
   "metadata": {},
   "outputs": [],
   "source": [
    "cfg = Path(\"configs/config_v50.yaml\")\n",
    "if cfg.exists():\n",
    "    h = hashlib.sha256(cfg.read_bytes()).hexdigest()\n",
    "    print(\"config:\", cfg)\n",
    "    print(\"sha256:\", h)\n",
    "else:\n",
    "    print(\"Config not found:\", cfg)"
   ]
  }
 ],
 "metadata": {
  "kernelspec": {
   "display_name": "Python 3",
   "language": "python",
   "name": "python3"
  },
  "language_info": {
   "name": "python",
   "version": "3.11"
  }
 },
 "nbformat": 4,
 "nbformat_minor": 5
}