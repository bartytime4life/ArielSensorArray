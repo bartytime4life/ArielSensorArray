{
 "cells": [
  {
   "cell_type": "markdown",
   "metadata": {},
   "source": [
    "# 🚀 SpectraMind V50 — Quickstart Notebook\n",
    "\n",
    "This notebook provides a *fast path* to validate your environment, configs, and pipeline for the **NeurIPS 2025 Ariel Data Challenge**.\n",
    "\n",
    "It mirrors the CLI-first, Hydra-driven, reproducibility-focused workflow used throughout the repository [oai_citation:0‡SpectraMind V50 Project Analysis (NeurIPS 2025 Ariel Data Challenge).pdf](file-service://file-QRDy8Xn69XgxEjZgtZZ8FK) [oai_citation:1‡Kaggle Platform: Comprehensive Technical Guide.pdf](file-service://file-CrgG895i84phyLsyW9FQgf).\n",
    "\n",
    "⚠️ **Note:** All steps here default to `--fast`, `--dry-run`, or sample subsets so you can smoke-test the stack in minutes.\n",
    "Switch to full runs only once your environment passes these checks."
   ]
  },
  {
   "cell_type": "markdown",
   "metadata": {},
   "source": [
    "## 1. Repo Sanity Checks"
   ]
  },
  {
   "cell_type": "code",
   "execution_count": null,
   "metadata": {},
   "outputs": [],
   "source": [
    "!python --version\n",
    "!poetry --version || echo '⚠️ Poetry not found'\n",
    "!git --version\n",
    "!dvc --version || echo '⚠️ DVC not found'"
   ]
  },
  {
   "cell_type": "markdown",
   "metadata": {},
   "source": [
    "## 2. CLI Smoke Test\n",
    "\n",
    "Runs the top-level CLI with `--version` and `--help` to confirm it’s wired up correctly [oai_citation:2‡SpectraMind V50 Project Analysis (NeurIPS 2025 Ariel Data Challenge).pdf](file-service://file-QRDy8Xn69XgxEjZgtZZ8FK)."
   ]
  },
  {
   "cell_type": "code",
   "execution_count": null,
   "metadata": {},
   "outputs": [],
   "source": [
    "!spectramind --version\n",
    "!spectramind --help | head -n 20"
   ]
  },
  {
   "cell_type": "markdown",
   "metadata": {},
   "source": [
    "## 3. Hydra Config Composition\n",
    "\n",
    "Demonstrates overriding configs via CLI (Hydra Compose API under the hood) [oai_citation:3‡SpectraMind V50 Project Analysis (NeurIPS 2025 Ariel Data Challenge).pdf](file-service://file-QRDy8Xn69XgxEjZgtZZ8FK)."
   ]
  },
  {
   "cell_type": "code",
   "execution_count": null,
   "metadata": {},
   "outputs": [],
   "source": [
    "!spectramind train model=airs_gnn optimizer=adamw training.fast_dev_run=true"
   ]
  },
  {
   "cell_type": "markdown",
   "metadata": {},
   "source": [
    "## 4. Mini End-to-End Pipeline\n",
    "\n",
    "Run through calibration → train → diagnostics → package, with safe defaults."
   ]
  },
  {
   "cell_type": "code",
   "execution_count": null,
   "metadata": {},
   "outputs": [],
   "source": [
    "!spectramind test --fast\n",
    "!spectramind calibrate --sample 3 --fast\n",
    "!spectramind train --epochs 1 --fast_dev_run true\n",
    "!spectramind diagnose dashboard --no-umap --no-tsne --outdir outputs/diagnostics_quick\n",
    "!spectramind submit --dry-run"
   ]
  },
  {
   "cell_type": "markdown",
   "metadata": {},
   "source": [
    "## 5. Cheat Sheet — Common Workflows\n",
    "\n",
    "```bash\n",
    "# Reproduce an experiment with config overrides\n",
    "spectramind train model=fgs1_mamba optimizer=adamw training.epochs=50\n",
    "\n",
    "# Validate calibration on a batch\n",
    "spectramind calibrate --sample 10\n",
    "\n",
    "# Generate leaderboard submission\n",
    "spectramind submit --config configs/config_v50.yaml\n",
    "```\n",
    "\n",
    "These commands log config hashes + metadata to `logs/v50_debug_log.md` [oai_citation:4‡SpectraMind V50 Project Analysis (NeurIPS 2025 Ariel Data Challenge).pdf](file-service://file-QRDy8Xn69XgxEjZgtZZ8FK)."
   ]
  },
  {
   "cell_type": "markdown",
   "metadata": {},
   "source": [
    "## 6. DVC Data Tips\n",
    "\n",
    "Datasets and models are tracked with DVC [oai_citation:5‡SpectraMind V50 Project Analysis (NeurIPS 2025 Ariel Data Challenge).pdf](file-service://file-QRDy8Xn69XgxEjZgtZZ8FK).\n",
    "\n",
    "```bash\n",
    "dvc pull    # Fetch latest data\n",
    "dvc repro   # Re-run pipeline stages\n",
    "```\n",
    "\n",
    "Check `.dvc/cache/` for tracked artifacts [oai_citation:6‡SpectraMind V50 Project Analysis (NeurIPS 2025 Ariel Data Challenge).pdf](file-service://file-QRDy8Xn69XgxEjZgtZZ8FK)."
   ]
  },
  {
   "cell_type": "markdown",
   "metadata": {},
   "source": [
    "## 7. Python Helper — Run CLI Inside Notebook\n",
    "\n",
    "For programmatic control from notebooks (useful in research prototyping)."
   ]
  },
  {
   "cell_type": "code",
   "execution_count": null,
   "metadata": {},
   "outputs": [],
   "source": [
    "import subprocess\n",
    "def run_cli(cmd):\n",
    "    print(f\"$ spectramind {cmd}\")\n",
    "    return subprocess.run([\"spectramind\"] + cmd.split(), capture_output=True, text=True)\n",
    "\n",
    "out = run_cli(\"--version\")\n",
    "print(out.stdout)"
   ]
  }
 ],
 "metadata": {
  "kernelspec": {
   "display_name": "Python 3",
   "language": "python",
   "name": "python3"
  },
  "language_info": {
   "name": "python",
   "version": "3.10"
  }
 },
 "nbformat": 4,
 "nbformat_minor": 5
}