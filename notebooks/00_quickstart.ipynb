{
 "cells": [
  {
   "cell_type": "markdown",
   "metadata": {},
   "source": [
    "# 🚀 SpectraMind V50 — Quickstart Notebook\n",
    "\n",
    "Fast path to validate your **environment → configs → pipeline** for the **NeurIPS 2025 Ariel Data Challenge**.\n",
    "\n",
    "This notebook mirrors our **CLI-first, Hydra-driven, reproducibility-focused** workflow (Typer CLI + Hydra configs + DVC) so you can smoke-test the stack in minutes without re-implementing any logic.\n",
    "\n",
    "⚠️ **Note:** All steps default to `--fast`, `--dry-run`, or sample subsets. Switch to full runs only after these checks pass.\n"
   ]
  },
  {
   "cell_type": "markdown",
   "metadata": {},
   "source": [
    "## 0. Runtime Helper — Resolve `spectramind` Launcher\n",
    "\n",
    "Some environments expose the CLI differently. This helper resolves in order:\n",
    "1. `spectramind` (on PATH)\n",
    "2. `poetry run spectramind`\n",
    "3. `python -m spectramind`\n",
    "\n",
    "Provides `sm(cmd)` and `sm_print(cmd)` helpers."
   ]
  },
  {
   "cell_type": "code",
   "execution_count": null,
   "metadata": {},
   "outputs": [],
   "source": [
    "import os, shlex, shutil, subprocess, sys\n",
    "\n",
    "def _resolve_spectramind_cmd():\n",
    "    if shutil.which(\"spectramind\"):\n",
    "        return [\"spectramind\"]\n",
    "    if shutil.which(\"poetry\"):\n",
    "        try:\n",
    "            out = subprocess.run([\"poetry\", \"run\", \"spectramind\", \"--version\"],\n",
    "                                 stdout=subprocess.PIPE, stderr=subprocess.STDOUT, text=True)\n",
    "            if out.returncode == 0:\n",
    "                return [\"poetry\", \"run\", \"spectramind\"]\n",
    "        except Exception:\n",
    "            pass\n",
    "    return [sys.executable, \"-m\", \"spectramind\"]\n",
    "\n",
    "SM = _resolve_spectramind_cmd()\n",
    "print(\"Resolved spectramind launcher:\", \" \".join(shlex.quote(p) for p in SM))\n",
    "\n",
    "def sm(cmd: str, check=False, capture=False):\n",
    "    args = shlex.split(cmd)\n",
    "    res = subprocess.run(SM + args,\n",
    "                         check=check,\n",
    "                         stdout=subprocess.PIPE if capture else None,\n",
    "                         stderr=subprocess.STDOUT if capture else None,\n",
    "                         text=True)\n",
    "    return res\n",
    "\n",
    "def sm_print(cmd: str):\n",
    "    print(\"$\", \" \".join(SM + shlex.split(cmd)))\n"
   ]
  },
  {
   "cell_type": "markdown",
   "metadata": {},
   "source": [
    "## 1. Repo Sanity Checks\n",
    "Validate core tooling (Python, Poetry, Git, DVC) and GPU snapshot."
   ]
  },
  {
   "cell_type": "code",
   "execution_count": null,
   "metadata": {},
   "outputs": [],
   "source": [
    "!python --version\n",
    "!pip --version\n",
    "!poetry --version || echo '⚠️ Poetry not found'\n",
    "!git --version\n",
    "!dvc --version || echo '⚠️ DVC not found'\n",
    "\n",
    "try:\n",
    "    import torch\n",
    "    print(\"PyTorch:\", torch.__version__)\n",
    "    if torch.cuda.is_available():\n",
    "        print(\"CUDA ✓ — device:\", torch.cuda.get_device_name(0))\n",
    "    else:\n",
    "        print(\"CUDA not available (CPU)\")\n",
    "except Exception:\n",
    "    print(\"PyTorch not installed (ok for quickstart)\")\n"
   ]
  },
  {
   "cell_type": "markdown",
   "metadata": {},
   "source": [
    "## 2. CLI Smoke Test"
   ]
  },
  {
   "cell_type": "code",
   "execution_count": null,
   "metadata": {},
   "outputs": [],
   "source": [
    "sm_print(\"--version\")\n",
    "out = sm(\"--version\", capture=True)\n",
    "print(out.stdout)\n",
    "\n",
    "sm_print(\"--help\")\n",
    "out = sm(\"--help\", capture=True)\n",
    "print(\"\\n\".join(out.stdout.splitlines()[:20]))\n"
   ]
  },
  {
   "cell_type": "markdown",
   "metadata": {},
   "source": [
    "## 3. Hydra Config Composition"
   ]
  },
  {
   "cell_type": "code",
   "execution_count": null,
   "metadata": {},
   "outputs": [],
   "source": [
    "cmd = \"train model=airs_gnn optimizer=adamw training.fast_dev_run=true\"\n",
    "sm_print(cmd)\n",
    "sm(cmd)\n"
   ]
  },
  {
   "cell_type": "markdown",
   "metadata": {},
   "source": [
    "## 4. Mini End-to-End Pipeline"
   ]
  },
  {
   "cell_type": "code",
   "execution_count": null,
   "metadata": {},
   "outputs": [],
   "source": [
    "for cmd in [\n",
    "    \"test --fast\",\n",
    "    \"calibrate --sample 3 --fast\",\n",
    "    \"train --epochs 1 training.fast_dev_run=true\",\n",
    "    \"diagnose dashboard --no-umap --no-tsne --outdir outputs/diagnostics_quick\",\n",
    "    \"submit --dry-run\"\n",
    "]:\n",
    "    sm_print(cmd)\n",
    "    sm(cmd)\n"
   ]
  },
  {
   "cell_type": "markdown",
   "metadata": {},
   "source": [
    "## 5. Cheat Sheet — Common Workflows\n",
    "```bash\n",
    "spectramind train model=fgs1_mamba optimizer=adamw training.epochs=50\n",
    "spectramind calibrate --sample 10\n",
    "spectramind submit --config configs/config_v50.yaml\n",
    "```\n",
    "Logs land in `logs/v50_debug_log.md`."
   ]
  },
  {
   "cell_type": "markdown",
   "metadata": {},
   "source": [
    "## 6. DVC Data Tips"
   ]
  },
  {
   "cell_type": "code",
   "execution_count": null,
   "metadata": {},
   "outputs": [],
   "source": [
    "%%bash\n",
    "set -euo pipefail\n",
    "if command -v dvc >/dev/null 2>&1; then\n",
    "  echo \"DVC detected — pulling latest data...\"\n",
    "  dvc pull || echo '⚠️ non-fatal'\n",
    "  echo \"Optionally recompute: dvc repro\"\n",
    "else\n",
    "  echo \"DVC not installed — skipping\"\n",
    "fi\n"
   ]
  },
  {
   "cell_type": "markdown",
   "metadata": {},
   "source": [
    "## 7. Python Helper — Run CLI Inside Notebook"
   ]
  },
  {
   "cell_type": "code",
   "execution_count": null,
   "metadata": {},
   "outputs": [],
   "source": [
    "res = sm(\"--version\", capture=True)\n",
    "print(res.stdout)\n",
    "\n",
    "res = sm(\"train training.fast_dev_run=true\", capture=True)\n",
    "for line in (res.stdout or \"\").splitlines():\n",
    "    if \"loss\" in line.lower() or \"gll\" in line.lower():\n",
    "        print(line)\n"
   ]
  },
  {
   "cell_type": "markdown",
   "metadata": {},
   "source": [
    "## 8. Where to Look Afterwards\n",
    "- Outputs: `outputs/`\n",
    "- Logs: `logs/v50_debug_log.md`\n",
    "- Diagnostics HTML: from `diagnose dashboard`\n",
    "- Configs: `configs/`\n"
   ]
  }
 ],
 "metadata": {
  "kernelspec": {
   "display_name": "Python 3",
   "language": "python",
   "name": "python3"
  },
  "language_info": {
   "name": "python",
   "version": "3.10"
  }
 },
 "nbformat": 4,
 "nbformat_minor": 5
}
