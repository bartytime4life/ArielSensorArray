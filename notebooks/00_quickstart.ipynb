{
"cells": \[
{
"cell\_type": "markdown",
"metadata": {},
"source": \[
"# 🚀 SpectraMind V50 — Quickstart Notebook\n",
"\n",
"Fast path to validate your **environment → configs → pipeline** for the **NeurIPS 2025 Ariel Data Challenge**.\n",
"\n",
"This notebook mirrors our **CLI-first, Hydra-driven, reproducibility-focused** workflow (Typer CLI + Hydra configs + DVC) so you can smoke-test the stack in minutes without re-implementing any logic.\n",
"\n",
"⚠️ **Note:** All steps default to `--fast`, `--dry-run`, or sample subsets. Switch to full runs only after these checks pass.\n",
"\n",
"References: SpectraMind V50 architecture & project analysis; Kaggle parity and notebooks export pipeline.\n"
]
},
{
"cell\_type": "markdown",
"metadata": {},
"source": \[
"## 0. Runtime Helper — Resolve `spectramind` Launcher\n",
"\n",
"Many environments expose the CLI differently. The helper below resolves a working command in this order:\n",
"\n",
"1) `spectramind` (on PATH)\n",
"2) `poetry run spectramind`\n",
"3) `python -m spectramind`\n",
"\n",
"It then provides `sm(cmd: str)` and `sm_print(cmd: str)` helpers to run/print the final command.\n"
]
},
{
"cell\_type": "code",
"execution\_count": null,
"metadata": {},
"outputs": \[],
"source": \[
"import os, shlex, shutil, subprocess, sys\n",
"\n",
"def \_resolve\_spectramind\_cmd():\n",
"    # 1) direct executable on PATH\n",
"    if shutil.which("spectramind"):\n",
"        return \["spectramind"]\n",
"    # 2) poetry run\n",
"    if shutil.which("poetry"):\n",
"        try:\n",
"            out = subprocess.run(\["poetry", "run", "spectramind", "--version"],\n",
"                                stdout=subprocess.PIPE, stderr=subprocess.STDOUT, text=True)\n",
"            if out.returncode == 0:\n",
"                return \["poetry", "run", "spectramind"]\n",
"        except Exception:\n",
"            pass\n",
"    # 3) python -m\n",
"    return \[sys.executable, "-m", "spectramind"]\n",
"\n",
"SM = \_resolve\_spectramind\_cmd()\n",
"print("Resolved spectramind launcher:", " ".join(shlex.quote(p) for p in SM))\n",
"\n",
"def sm(cmd: str, check=False, capture=False):\n",
"    """Run spectramind with a string of args (e.g., 'selftest --fast')."""\n",
"    args = shlex.split(cmd)\n",
"    res = subprocess.run(SM + args,\n",
"                         check=check,\n",
"                         stdout=subprocess.PIPE if capture else None,\n",
"                         stderr=subprocess.STDOUT if capture else None,\n",
"                         text=True)\n",
"    return res\n",
"\n",
"def sm\_print(cmd: str):\n",
"    print("\$", " ".join(\[\*SM, \*shlex.split(cmd)]))\n"
]
},
{
"cell\_type": "markdown",
"metadata": {},
"source": \[
"## 1. Repo Sanity Checks\n",
"\n",
"Validate core tooling (Python, Poetry, Git, DVC) and show basic environment info. Non-fatal warnings are fine for a quickstart."
]
},
{
"cell\_type": "code",
"execution\_count": null,
"metadata": {},
"outputs": \[],
"source": \[
"!python --version\n",
"!pip --version\n",
"!poetry --version || echo '⚠️ Poetry not found (ok if you use another env manager)'\n",
"!git --version\n",
"!dvc --version || echo '⚠️ DVC not found — data/model caching may be disabled'\n",
"\n",
"# Optional GPU snapshot (non-fatal)\n",
"try:\n",
"    import torch\n",
"    print("PyTorch:", torch.**version**)\n",
"    if torch.cuda.is\_available():\n",
"        print("CUDA available ✓ — device:", torch.cuda.get\_device\_name(0))\n",
"    else:\n",
"        print("CUDA not available (CPU path)")\n",
"except Exception as e:\n",
"    print("PyTorch not installed or failed to import (ok for quickstart)")\n"
]
},
{
"cell\_type": "markdown",
"metadata": {},
"source": \[
"## 2. CLI Smoke Test\n",
"\n",
"Confirm the Typer CLI is wired up properly (`--version` / `--help`)."
]
},
{
"cell\_type": "code",
"execution\_count": null,
"metadata": {},
"outputs": \[],
"source": \[
"sm\_print("--version")\n",
"out = sm("--version", capture=True)\n",
"print(out.stdout if out.stdout else "(no output)")\n",
"\n",
"sm\_print("--help")\n",
"out = sm("--help", capture=True)\n",
"print('\n'.join(out.stdout.splitlines()\[:20]) if out.stdout else "(no output)")\n"
]
},
{
"cell\_type": "markdown",
"metadata": {},
"source": \[
"## 3. Hydra Config Composition\n",
"\n",
"Demonstrate config overrides via CLI (Hydra Compose API under the hood). We run a harmless **fast/dev** training stub."
]
},
{
"cell\_type": "code",
"execution\_count": null,
"metadata": {},
"outputs": \[],
"source": \[
"cmd = "train model=airs\_gnn optimizer=adamw training.fast\_dev\_run=true"\n",
"sm\_print(cmd)\n",
"sm(cmd)\n"
]
},
{
"cell\_type": "markdown",
"metadata": {},
"source": \[
"## 4. Mini End-to-End Pipeline\n",
"\n",
"End-to-end pass with **safe defaults**: selftest → calibrate (sample) → train (1 epoch) → diagnostics → submit (dry-run). Expected runtime: a few minutes on CPU."
]
},
{
"cell\_type": "code",
"execution\_count": null,
"metadata": {},
"outputs": \[],
"source": \[
"for cmd in \[\n",
"    "test --fast",\n",
"    "calibrate --sample 3 --fast",\n",
"    "train --epochs 1 training.fast\_dev\_run=true",\n",
"    "diagnose dashboard --no-umap --no-tsne --outdir outputs/diagnostics\_quick",\n",
"    "submit --dry-run"\n",
"]:\n",
"    sm\_print(cmd)\n",
"    sm(cmd)\n"
]
},
{
"cell\_type": "markdown",
"metadata": {},
"source": \[
"## 5. Cheat Sheet — Common Workflows\n",
"\n",
"`bash\n",
    "# Reproduce an experiment with config overrides\n",
    "spectramind train model=fgs1_mamba optimizer=adamw training.epochs=50\n",
    "\n",
    "# Validate calibration on a small batch\n",
    "spectramind calibrate --sample 10\n",
    "\n",
    "# Generate leaderboard submission (uses your Hydra config)\n",
    "spectramind submit --config configs/config_v50.yaml\n",
    "`\n",
"\n",
"All CLI calls append run metadata and config hashes to `logs/v50_debug_log.md`.\n"
]
},
{
"cell\_type": "markdown",
"metadata": {},
"source": \[
"## 6. DVC Data Tips\n",
"\n",
"If you use DVC for datasets/models, these commands pull/recompute artifacts. (Non-fatal if DVC is absent.)"
]
},
{
"cell\_type": "code",
"execution\_count": null,
"metadata": {},
"outputs": \[],
"source": \[
"%%bash\n",
"set -euo pipefail\n",
"if command -v dvc >/dev/null 2>&1; then\n",
"  echo "DVC detected — pulling latest data (if remote configured)..."\n",
"  dvc pull || echo "⚠️ dvc pull non-fatal warning"\n",
"  echo "Optionally recompute stages with caching:"\n",
"  echo "  dvc repro"\n",
"else\n",
"  echo "DVC not installed — skipping (ok for quickstart)"\n",
"fi\n"
]
},
{
"cell\_type": "markdown",
"metadata": {},
"source": \[
"## 7. Python Helper — Run CLI Inside Notebook\n",
"\n",
"For programmatic control during research prototyping or batch testing. `sm()` returns a `CompletedProcess` so you can capture/parse stdout as needed."
]
},
{
"cell\_type": "code",
"execution\_count": null,
"metadata": {},
"outputs": \[],
"source": \[
"res = sm("--version", capture=True)\n",
"print(res.stdout)\n",
"\n",
"# Example: capture a short train dry-run and grep a metric line\n",
"res = sm("train training.fast\_dev\_run=true", capture=True)\n",
"for line in (res.stdout or "").splitlines():\n",
"    if "loss" in line.lower() or "gll" in line.lower():\n",
"        print(line)\n"
]
},
{
"cell\_type": "markdown",
"metadata": {},
"source": \[
"## 8. Where to Look Afterwards\n",
"\n",
"- **Outputs & Artifacts:** `outputs/` (diagnostics, checkpoints, submission bundles)\n",
"- **Run Logs:** `logs/v50_debug_log.md` (CLI invocations, hashes, config snapshots)\n",
"- **Diagnostics HTML:** produced by `diagnose dashboard` (UMAP/t-SNE optional)\n",
"- **Configs:** `configs/` (Hydra groups; use CLI overrides to compose variants)\n",
"\n",
"If anything fails here, re-run section 1 (sanity checks), then inspect the console output from sections 2–4 for precise error messages and missing dependencies."
]
}
],
"metadata": {
"kernelspec": {
"display\_name": "Python 3",
"language": "python",
"name": "python3"
},
"language\_info": {
"codemirror\_mode": {
"name": "ipython",
"version": 3
},
"file\_extension": ".py",
"mimetype": "text/x-python",
"name": "python",
"nbconvert\_exporter": "python",
"pygments\_lexer": "ipython3",
"version": "3.10"
}
},
"nbformat": 4,
"nbformat\_minor": 5
}
